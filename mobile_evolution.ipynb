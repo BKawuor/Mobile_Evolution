{
 "cells": [
  {
   "cell_type": "markdown",
   "metadata": {},
   "source": [
    " ## Define the Question\n",
    "\n",
    "As I embark on this data journalism project, my overarching question is: \"What are the key trends that have shaped the evolution of Africa's mobile phone industry?\" Delving into this question, I'm excited to uncover the underlying dynamics that have driven the growth and transformation of the mobile phone sector across the African continent.\n",
    "\n",
    "This question resonates strongly with me due to the pivotal role that mobile phones have played in revolutionizing communication, technology, and access to information in Africa. By examining the data at hand, I aim to shed light on the significant trends that have propelled the mobile industry's growth and have made it a cornerstone of African societies.\n",
    "\n",
    "With this question set, I'm ready to dive into the dataset and unveil the captivating insights that will illuminate the journey of Africa's mobile industry."
   ]
  },
  {
   "cell_type": "markdown",
   "metadata": {},
   "source": [
    "### Import Important Packages"
   ]
  },
  {
   "cell_type": "code",
   "execution_count": 122,
   "metadata": {},
   "outputs": [],
   "source": [
    "import pandas as pd\n",
    "import numpy as np\n",
    "\n",
    "# Setting up Plotly for interactive visualizations\n",
    "import plotly.express as px\n",
    "import plotly.graph_objects as go\n",
    "from plotly.subplots import make_subplots"
   ]
  },
  {
   "cell_type": "markdown",
   "metadata": {},
   "source": [
    "### Read the Dataset"
   ]
  },
  {
   "cell_type": "markdown",
   "metadata": {},
   "source": [
    "To kickstart my exploration into the evolution of Africa's mobile phone industry, I will obtain the dataset provided [here](https://bit.ly/MobileDataset). This dataset promises to offer a comprehensive overview of key metrics related to mobile phone usage, subscriptions, and technological advancements across various African countries.\n",
    "\n",
    "Downloading the dataset, I'm eager to unlock its potential and extract valuable information that will allow me to answer the fundamental question of the project. Armed with this dataset, I'm poised to embark on the journey of data analysis and uncover the intriguing trends that have shaped Africa's mobile industry landscape."
   ]
  },
  {
   "cell_type": "code",
   "execution_count": 123,
   "metadata": {},
   "outputs": [
    {
     "data": {
      "text/html": [
       "<div>\n",
       "<style scoped>\n",
       "    .dataframe tbody tr th:only-of-type {\n",
       "        vertical-align: middle;\n",
       "    }\n",
       "\n",
       "    .dataframe tbody tr th {\n",
       "        vertical-align: top;\n",
       "    }\n",
       "\n",
       "    .dataframe thead th {\n",
       "        text-align: right;\n",
       "    }\n",
       "</style>\n",
       "<table border=\"1\" class=\"dataframe\">\n",
       "  <thead>\n",
       "    <tr style=\"text-align: right;\">\n",
       "      <th></th>\n",
       "      <th>Series Name</th>\n",
       "      <th>Series Code</th>\n",
       "      <th>Country Name</th>\n",
       "      <th>Country Code</th>\n",
       "      <th>1995 [YR1995]</th>\n",
       "      <th>1996 [YR1996]</th>\n",
       "      <th>1997 [YR1997]</th>\n",
       "      <th>1998 [YR1998]</th>\n",
       "      <th>1999 [YR1999]</th>\n",
       "      <th>2000 [YR2000]</th>\n",
       "      <th>...</th>\n",
       "      <th>2007 [YR2007]</th>\n",
       "      <th>2008 [YR2008]</th>\n",
       "      <th>2009 [YR2009]</th>\n",
       "      <th>2010 [YR2010]</th>\n",
       "      <th>2011 [YR2011]</th>\n",
       "      <th>2012 [YR2012]</th>\n",
       "      <th>2013 [YR2013]</th>\n",
       "      <th>2014 [YR2014]</th>\n",
       "      <th>2015 [YR2015]</th>\n",
       "      <th>2016 [YR2016]</th>\n",
       "    </tr>\n",
       "  </thead>\n",
       "  <tbody>\n",
       "    <tr>\n",
       "      <th>0</th>\n",
       "      <td>Internet users (per 100 people)</td>\n",
       "      <td>IT.NET.USER.P2</td>\n",
       "      <td>Sub-Saharan Africa</td>\n",
       "      <td>SSF</td>\n",
       "      <td>..</td>\n",
       "      <td>0.068722178</td>\n",
       "      <td>0.128779789</td>\n",
       "      <td>0.233989844</td>\n",
       "      <td>0.359684995</td>\n",
       "      <td>0.501116248</td>\n",
       "      <td>...</td>\n",
       "      <td>3.670158994</td>\n",
       "      <td>5.616740719</td>\n",
       "      <td>6.922015421</td>\n",
       "      <td>9.775497398</td>\n",
       "      <td>12.10872903</td>\n",
       "      <td>14.61288055</td>\n",
       "      <td>17.1216113</td>\n",
       "      <td>19.57576513</td>\n",
       "      <td>22.38805971</td>\n",
       "      <td>..</td>\n",
       "    </tr>\n",
       "    <tr>\n",
       "      <th>1</th>\n",
       "      <td>Internet users (per 100 people)</td>\n",
       "      <td>IT.NET.USER.P2</td>\n",
       "      <td>Angola</td>\n",
       "      <td>AGO</td>\n",
       "      <td>..</td>\n",
       "      <td>0.000775929</td>\n",
       "      <td>0.005673746</td>\n",
       "      <td>0.018453724</td>\n",
       "      <td>0.071964087</td>\n",
       "      <td>0.105045562</td>\n",
       "      <td>...</td>\n",
       "      <td>1.7</td>\n",
       "      <td>1.9</td>\n",
       "      <td>2.3</td>\n",
       "      <td>2.8</td>\n",
       "      <td>3.1</td>\n",
       "      <td>6.5</td>\n",
       "      <td>8.9</td>\n",
       "      <td>10.2</td>\n",
       "      <td>12.4</td>\n",
       "      <td>..</td>\n",
       "    </tr>\n",
       "    <tr>\n",
       "      <th>2</th>\n",
       "      <td>Internet users (per 100 people)</td>\n",
       "      <td>IT.NET.USER.P2</td>\n",
       "      <td>Benin</td>\n",
       "      <td>BEN</td>\n",
       "      <td>..</td>\n",
       "      <td>0.0016931</td>\n",
       "      <td>0.024648796</td>\n",
       "      <td>0.047877304</td>\n",
       "      <td>0.154906741</td>\n",
       "      <td>0.225247851</td>\n",
       "      <td>...</td>\n",
       "      <td>1.79</td>\n",
       "      <td>1.85</td>\n",
       "      <td>2.24</td>\n",
       "      <td>3.13</td>\n",
       "      <td>4.148323066</td>\n",
       "      <td>4.5</td>\n",
       "      <td>4.9</td>\n",
       "      <td>6</td>\n",
       "      <td>6.787702956</td>\n",
       "      <td>..</td>\n",
       "    </tr>\n",
       "    <tr>\n",
       "      <th>3</th>\n",
       "      <td>Internet users (per 100 people)</td>\n",
       "      <td>IT.NET.USER.P2</td>\n",
       "      <td>Botswana</td>\n",
       "      <td>BWA</td>\n",
       "      <td>0.064521041</td>\n",
       "      <td>0.15745423</td>\n",
       "      <td>0.30774685</td>\n",
       "      <td>0.602400929</td>\n",
       "      <td>1.122391474</td>\n",
       "      <td>2.902666622</td>\n",
       "      <td>...</td>\n",
       "      <td>5.28</td>\n",
       "      <td>6.25</td>\n",
       "      <td>6.15</td>\n",
       "      <td>6</td>\n",
       "      <td>8</td>\n",
       "      <td>11.5</td>\n",
       "      <td>15</td>\n",
       "      <td>18.5</td>\n",
       "      <td>27.5</td>\n",
       "      <td>..</td>\n",
       "    </tr>\n",
       "    <tr>\n",
       "      <th>4</th>\n",
       "      <td>Internet users (per 100 people)</td>\n",
       "      <td>IT.NET.USER.P2</td>\n",
       "      <td>Burkina Faso</td>\n",
       "      <td>BFA</td>\n",
       "      <td>..</td>\n",
       "      <td>0.000960519</td>\n",
       "      <td>0.018686353</td>\n",
       "      <td>0.045423484</td>\n",
       "      <td>0.061780293</td>\n",
       "      <td>0.077080169</td>\n",
       "      <td>...</td>\n",
       "      <td>0.75</td>\n",
       "      <td>0.92</td>\n",
       "      <td>1.13</td>\n",
       "      <td>2.4</td>\n",
       "      <td>3</td>\n",
       "      <td>3.725034916</td>\n",
       "      <td>9.1</td>\n",
       "      <td>9.4</td>\n",
       "      <td>11.38764617</td>\n",
       "      <td>..</td>\n",
       "    </tr>\n",
       "  </tbody>\n",
       "</table>\n",
       "<p>5 rows × 26 columns</p>\n",
       "</div>"
      ],
      "text/plain": [
       "                       Series Name     Series Code        Country Name  \\\n",
       "0  Internet users (per 100 people)  IT.NET.USER.P2  Sub-Saharan Africa   \n",
       "1  Internet users (per 100 people)  IT.NET.USER.P2              Angola   \n",
       "2  Internet users (per 100 people)  IT.NET.USER.P2               Benin   \n",
       "3  Internet users (per 100 people)  IT.NET.USER.P2            Botswana   \n",
       "4  Internet users (per 100 people)  IT.NET.USER.P2        Burkina Faso   \n",
       "\n",
       "  Country Code 1995 [YR1995] 1996 [YR1996] 1997 [YR1997] 1998 [YR1998]  \\\n",
       "0          SSF            ..   0.068722178   0.128779789   0.233989844   \n",
       "1          AGO            ..   0.000775929   0.005673746   0.018453724   \n",
       "2          BEN            ..     0.0016931   0.024648796   0.047877304   \n",
       "3          BWA   0.064521041    0.15745423    0.30774685   0.602400929   \n",
       "4          BFA            ..   0.000960519   0.018686353   0.045423484   \n",
       "\n",
       "  1999 [YR1999] 2000 [YR2000]  ... 2007 [YR2007] 2008 [YR2008] 2009 [YR2009]  \\\n",
       "0   0.359684995   0.501116248  ...   3.670158994   5.616740719   6.922015421   \n",
       "1   0.071964087   0.105045562  ...           1.7           1.9           2.3   \n",
       "2   0.154906741   0.225247851  ...          1.79          1.85          2.24   \n",
       "3   1.122391474   2.902666622  ...          5.28          6.25          6.15   \n",
       "4   0.061780293   0.077080169  ...          0.75          0.92          1.13   \n",
       "\n",
       "  2010 [YR2010] 2011 [YR2011] 2012 [YR2012] 2013 [YR2013] 2014 [YR2014]  \\\n",
       "0   9.775497398   12.10872903   14.61288055    17.1216113   19.57576513   \n",
       "1           2.8           3.1           6.5           8.9          10.2   \n",
       "2          3.13   4.148323066           4.5           4.9             6   \n",
       "3             6             8          11.5            15          18.5   \n",
       "4           2.4             3   3.725034916           9.1           9.4   \n",
       "\n",
       "  2015 [YR2015] 2016 [YR2016]  \n",
       "0   22.38805971            ..  \n",
       "1          12.4            ..  \n",
       "2   6.787702956            ..  \n",
       "3          27.5            ..  \n",
       "4   11.38764617            ..  \n",
       "\n",
       "[5 rows x 26 columns]"
      ]
     },
     "execution_count": 123,
     "metadata": {},
     "output_type": "execute_result"
    }
   ],
   "source": [
    "# Load the dataset\n",
    "data_url = \"https://bit.ly/MobileDataset\"\n",
    "data = pd.read_csv(data_url)\n",
    "data.head()"
   ]
  },
  {
   "cell_type": "markdown",
   "metadata": {},
   "source": [
    "### Prepare the Data"
   ]
  },
  {
   "cell_type": "code",
   "execution_count": 124,
   "metadata": {},
   "outputs": [
    {
     "name": "stdout",
     "output_type": "stream",
     "text": [
      "Columns in the dataset:\n",
      "Index(['Series Name', 'Series Code', 'Country Name', 'Country Code',\n",
      "       '1995 [YR1995]', '1996 [YR1996]', '1997 [YR1997]', '1998 [YR1998]',\n",
      "       '1999 [YR1999]', '2000 [YR2000]', '2001 [YR2001]', '2002 [YR2002]',\n",
      "       '2003 [YR2003]', '2004 [YR2004]', '2005 [YR2005]', '2006 [YR2006]',\n",
      "       '2007 [YR2007]', '2008 [YR2008]', '2009 [YR2009]', '2010 [YR2010]',\n",
      "       '2011 [YR2011]', '2012 [YR2012]', '2013 [YR2013]', '2014 [YR2014]',\n",
      "       '2015 [YR2015]', '2016 [YR2016]'],\n",
      "      dtype='object')\n"
     ]
    }
   ],
   "source": [
    "# Display the columns and sample data\n",
    "print(\"Columns in the dataset:\")\n",
    "print(data.columns)"
   ]
  },
  {
   "cell_type": "code",
   "execution_count": 125,
   "metadata": {},
   "outputs": [
    {
     "name": "stdout",
     "output_type": "stream",
     "text": [
      "\n",
      "Sample data:\n",
      "                       Series Name     Series Code        Country Name  \\\n",
      "0  Internet users (per 100 people)  IT.NET.USER.P2  Sub-Saharan Africa   \n",
      "1  Internet users (per 100 people)  IT.NET.USER.P2              Angola   \n",
      "2  Internet users (per 100 people)  IT.NET.USER.P2               Benin   \n",
      "3  Internet users (per 100 people)  IT.NET.USER.P2            Botswana   \n",
      "4  Internet users (per 100 people)  IT.NET.USER.P2        Burkina Faso   \n",
      "\n",
      "  Country Code 1995 [YR1995] 1996 [YR1996] 1997 [YR1997] 1998 [YR1998]  \\\n",
      "0          SSF            ..   0.068722178   0.128779789   0.233989844   \n",
      "1          AGO            ..   0.000775929   0.005673746   0.018453724   \n",
      "2          BEN            ..     0.0016931   0.024648796   0.047877304   \n",
      "3          BWA   0.064521041    0.15745423    0.30774685   0.602400929   \n",
      "4          BFA            ..   0.000960519   0.018686353   0.045423484   \n",
      "\n",
      "  1999 [YR1999] 2000 [YR2000]  ... 2007 [YR2007] 2008 [YR2008] 2009 [YR2009]  \\\n",
      "0   0.359684995   0.501116248  ...   3.670158994   5.616740719   6.922015421   \n",
      "1   0.071964087   0.105045562  ...           1.7           1.9           2.3   \n",
      "2   0.154906741   0.225247851  ...          1.79          1.85          2.24   \n",
      "3   1.122391474   2.902666622  ...          5.28          6.25          6.15   \n",
      "4   0.061780293   0.077080169  ...          0.75          0.92          1.13   \n",
      "\n",
      "  2010 [YR2010] 2011 [YR2011] 2012 [YR2012] 2013 [YR2013] 2014 [YR2014]  \\\n",
      "0   9.775497398   12.10872903   14.61288055    17.1216113   19.57576513   \n",
      "1           2.8           3.1           6.5           8.9          10.2   \n",
      "2          3.13   4.148323066           4.5           4.9             6   \n",
      "3             6             8          11.5            15          18.5   \n",
      "4           2.4             3   3.725034916           9.1           9.4   \n",
      "\n",
      "  2015 [YR2015] 2016 [YR2016]  \n",
      "0   22.38805971            ..  \n",
      "1          12.4            ..  \n",
      "2   6.787702956            ..  \n",
      "3          27.5            ..  \n",
      "4   11.38764617            ..  \n",
      "\n",
      "[5 rows x 26 columns]\n"
     ]
    }
   ],
   "source": [
    "# Display a sample of the data\n",
    "print(\"\\nSample data:\")\n",
    "print(data.head())"
   ]
  },
  {
   "cell_type": "markdown",
   "metadata": {},
   "source": [
    "**Series Name:** The name of the series or indicator, describing the specific aspect of internet or mobile phone usage that the data represents.\n",
    "\n",
    "**Series Code:** A unique code associated with the series, often used for identification and categorization purposes.\n",
    "\n",
    "**Country Name:** The name of the country for which the data is recorded.\n",
    "\n",
    "**Country Code:** A code assigned to each country, which is used to uniquely identify countries in the dataset.\n",
    "\n",
    "**1995 [YR1995] to 2016 [YR2016]:** These columns represent the values of the corresponding indicator for each year. For example, '1995 [YR1995]' contains the data for the indicator in the year 1995, '1996 [YR1996]' for the year 1996, and so on. These values are usually measurements or percentages representing aspects such as internet users per 100 people or mobile subscriptions."
   ]
  },
  {
   "cell_type": "code",
   "execution_count": 126,
   "metadata": {},
   "outputs": [
    {
     "data": {
      "application/vnd.plotly.v1+json": {
       "config": {
        "plotlyServerURL": "https://plot.ly"
       },
       "data": [
        {
         "coloraxis": "coloraxis",
         "hovertemplate": "Column: %{x}<br>Missing Count: %{z}",
         "name": "0",
         "type": "heatmap",
         "x": [
          0,
          1,
          2,
          3,
          4,
          5,
          6,
          7,
          8,
          9,
          10,
          11,
          12,
          13,
          14,
          15,
          16,
          17,
          18,
          19,
          20,
          21,
          22,
          23,
          24,
          25
         ],
         "xaxis": "x",
         "y": [
          "column",
          "missing_count"
         ],
         "yaxis": "y",
         "z": [
          [
           "Series Name",
           "Series Code",
           "Country Name",
           "Country Code",
           "1995 [YR1995]",
           "1996 [YR1996]",
           "1997 [YR1997]",
           "1998 [YR1998]",
           "1999 [YR1999]",
           "2000 [YR2000]",
           "2001 [YR2001]",
           "2002 [YR2002]",
           "2003 [YR2003]",
           "2004 [YR2004]",
           "2005 [YR2005]",
           "2006 [YR2006]",
           "2007 [YR2007]",
           "2008 [YR2008]",
           "2009 [YR2009]",
           "2010 [YR2010]",
           "2011 [YR2011]",
           "2012 [YR2012]",
           "2013 [YR2013]",
           "2014 [YR2014]",
           "2015 [YR2015]",
           "2016 [YR2016]"
          ],
          [
           0,
           0,
           0,
           0,
           0,
           0,
           0,
           0,
           0,
           0,
           0,
           0,
           0,
           0,
           0,
           0,
           0,
           0,
           0,
           0,
           0,
           0,
           0,
           0,
           0,
           0
          ]
         ]
        }
       ],
       "layout": {
        "coloraxis": {
         "colorbar": {
          "len": 0.5,
          "thickness": 20,
          "tickvals": [
           0,
           500,
           1000
          ],
          "title": {
           "text": "Missing Count"
          }
         },
         "colorscale": [
          [
           0,
           "rgb(255,255,217)"
          ],
          [
           0.125,
           "rgb(237,248,177)"
          ],
          [
           0.25,
           "rgb(199,233,180)"
          ],
          [
           0.375,
           "rgb(127,205,187)"
          ],
          [
           0.5,
           "rgb(65,182,196)"
          ],
          [
           0.625,
           "rgb(29,145,192)"
          ],
          [
           0.75,
           "rgb(34,94,168)"
          ],
          [
           0.875,
           "rgb(37,52,148)"
          ],
          [
           1,
           "rgb(8,29,88)"
          ]
         ]
        },
        "plot_bgcolor": "rgba(240,240,240,0.7)",
        "template": {
         "data": {
          "bar": [
           {
            "error_x": {
             "color": "#2a3f5f"
            },
            "error_y": {
             "color": "#2a3f5f"
            },
            "marker": {
             "line": {
              "color": "#E5ECF6",
              "width": 0.5
             },
             "pattern": {
              "fillmode": "overlay",
              "size": 10,
              "solidity": 0.2
             }
            },
            "type": "bar"
           }
          ],
          "barpolar": [
           {
            "marker": {
             "line": {
              "color": "#E5ECF6",
              "width": 0.5
             },
             "pattern": {
              "fillmode": "overlay",
              "size": 10,
              "solidity": 0.2
             }
            },
            "type": "barpolar"
           }
          ],
          "carpet": [
           {
            "aaxis": {
             "endlinecolor": "#2a3f5f",
             "gridcolor": "white",
             "linecolor": "white",
             "minorgridcolor": "white",
             "startlinecolor": "#2a3f5f"
            },
            "baxis": {
             "endlinecolor": "#2a3f5f",
             "gridcolor": "white",
             "linecolor": "white",
             "minorgridcolor": "white",
             "startlinecolor": "#2a3f5f"
            },
            "type": "carpet"
           }
          ],
          "choropleth": [
           {
            "colorbar": {
             "outlinewidth": 0,
             "ticks": ""
            },
            "type": "choropleth"
           }
          ],
          "contour": [
           {
            "colorbar": {
             "outlinewidth": 0,
             "ticks": ""
            },
            "colorscale": [
             [
              0,
              "#0d0887"
             ],
             [
              0.1111111111111111,
              "#46039f"
             ],
             [
              0.2222222222222222,
              "#7201a8"
             ],
             [
              0.3333333333333333,
              "#9c179e"
             ],
             [
              0.4444444444444444,
              "#bd3786"
             ],
             [
              0.5555555555555556,
              "#d8576b"
             ],
             [
              0.6666666666666666,
              "#ed7953"
             ],
             [
              0.7777777777777778,
              "#fb9f3a"
             ],
             [
              0.8888888888888888,
              "#fdca26"
             ],
             [
              1,
              "#f0f921"
             ]
            ],
            "type": "contour"
           }
          ],
          "contourcarpet": [
           {
            "colorbar": {
             "outlinewidth": 0,
             "ticks": ""
            },
            "type": "contourcarpet"
           }
          ],
          "heatmap": [
           {
            "colorbar": {
             "outlinewidth": 0,
             "ticks": ""
            },
            "colorscale": [
             [
              0,
              "#0d0887"
             ],
             [
              0.1111111111111111,
              "#46039f"
             ],
             [
              0.2222222222222222,
              "#7201a8"
             ],
             [
              0.3333333333333333,
              "#9c179e"
             ],
             [
              0.4444444444444444,
              "#bd3786"
             ],
             [
              0.5555555555555556,
              "#d8576b"
             ],
             [
              0.6666666666666666,
              "#ed7953"
             ],
             [
              0.7777777777777778,
              "#fb9f3a"
             ],
             [
              0.8888888888888888,
              "#fdca26"
             ],
             [
              1,
              "#f0f921"
             ]
            ],
            "type": "heatmap"
           }
          ],
          "heatmapgl": [
           {
            "colorbar": {
             "outlinewidth": 0,
             "ticks": ""
            },
            "colorscale": [
             [
              0,
              "#0d0887"
             ],
             [
              0.1111111111111111,
              "#46039f"
             ],
             [
              0.2222222222222222,
              "#7201a8"
             ],
             [
              0.3333333333333333,
              "#9c179e"
             ],
             [
              0.4444444444444444,
              "#bd3786"
             ],
             [
              0.5555555555555556,
              "#d8576b"
             ],
             [
              0.6666666666666666,
              "#ed7953"
             ],
             [
              0.7777777777777778,
              "#fb9f3a"
             ],
             [
              0.8888888888888888,
              "#fdca26"
             ],
             [
              1,
              "#f0f921"
             ]
            ],
            "type": "heatmapgl"
           }
          ],
          "histogram": [
           {
            "marker": {
             "pattern": {
              "fillmode": "overlay",
              "size": 10,
              "solidity": 0.2
             }
            },
            "type": "histogram"
           }
          ],
          "histogram2d": [
           {
            "colorbar": {
             "outlinewidth": 0,
             "ticks": ""
            },
            "colorscale": [
             [
              0,
              "#0d0887"
             ],
             [
              0.1111111111111111,
              "#46039f"
             ],
             [
              0.2222222222222222,
              "#7201a8"
             ],
             [
              0.3333333333333333,
              "#9c179e"
             ],
             [
              0.4444444444444444,
              "#bd3786"
             ],
             [
              0.5555555555555556,
              "#d8576b"
             ],
             [
              0.6666666666666666,
              "#ed7953"
             ],
             [
              0.7777777777777778,
              "#fb9f3a"
             ],
             [
              0.8888888888888888,
              "#fdca26"
             ],
             [
              1,
              "#f0f921"
             ]
            ],
            "type": "histogram2d"
           }
          ],
          "histogram2dcontour": [
           {
            "colorbar": {
             "outlinewidth": 0,
             "ticks": ""
            },
            "colorscale": [
             [
              0,
              "#0d0887"
             ],
             [
              0.1111111111111111,
              "#46039f"
             ],
             [
              0.2222222222222222,
              "#7201a8"
             ],
             [
              0.3333333333333333,
              "#9c179e"
             ],
             [
              0.4444444444444444,
              "#bd3786"
             ],
             [
              0.5555555555555556,
              "#d8576b"
             ],
             [
              0.6666666666666666,
              "#ed7953"
             ],
             [
              0.7777777777777778,
              "#fb9f3a"
             ],
             [
              0.8888888888888888,
              "#fdca26"
             ],
             [
              1,
              "#f0f921"
             ]
            ],
            "type": "histogram2dcontour"
           }
          ],
          "mesh3d": [
           {
            "colorbar": {
             "outlinewidth": 0,
             "ticks": ""
            },
            "type": "mesh3d"
           }
          ],
          "parcoords": [
           {
            "line": {
             "colorbar": {
              "outlinewidth": 0,
              "ticks": ""
             }
            },
            "type": "parcoords"
           }
          ],
          "pie": [
           {
            "automargin": true,
            "type": "pie"
           }
          ],
          "scatter": [
           {
            "fillpattern": {
             "fillmode": "overlay",
             "size": 10,
             "solidity": 0.2
            },
            "type": "scatter"
           }
          ],
          "scatter3d": [
           {
            "line": {
             "colorbar": {
              "outlinewidth": 0,
              "ticks": ""
             }
            },
            "marker": {
             "colorbar": {
              "outlinewidth": 0,
              "ticks": ""
             }
            },
            "type": "scatter3d"
           }
          ],
          "scattercarpet": [
           {
            "marker": {
             "colorbar": {
              "outlinewidth": 0,
              "ticks": ""
             }
            },
            "type": "scattercarpet"
           }
          ],
          "scattergeo": [
           {
            "marker": {
             "colorbar": {
              "outlinewidth": 0,
              "ticks": ""
             }
            },
            "type": "scattergeo"
           }
          ],
          "scattergl": [
           {
            "marker": {
             "colorbar": {
              "outlinewidth": 0,
              "ticks": ""
             }
            },
            "type": "scattergl"
           }
          ],
          "scattermapbox": [
           {
            "marker": {
             "colorbar": {
              "outlinewidth": 0,
              "ticks": ""
             }
            },
            "type": "scattermapbox"
           }
          ],
          "scatterpolar": [
           {
            "marker": {
             "colorbar": {
              "outlinewidth": 0,
              "ticks": ""
             }
            },
            "type": "scatterpolar"
           }
          ],
          "scatterpolargl": [
           {
            "marker": {
             "colorbar": {
              "outlinewidth": 0,
              "ticks": ""
             }
            },
            "type": "scatterpolargl"
           }
          ],
          "scatterternary": [
           {
            "marker": {
             "colorbar": {
              "outlinewidth": 0,
              "ticks": ""
             }
            },
            "type": "scatterternary"
           }
          ],
          "surface": [
           {
            "colorbar": {
             "outlinewidth": 0,
             "ticks": ""
            },
            "colorscale": [
             [
              0,
              "#0d0887"
             ],
             [
              0.1111111111111111,
              "#46039f"
             ],
             [
              0.2222222222222222,
              "#7201a8"
             ],
             [
              0.3333333333333333,
              "#9c179e"
             ],
             [
              0.4444444444444444,
              "#bd3786"
             ],
             [
              0.5555555555555556,
              "#d8576b"
             ],
             [
              0.6666666666666666,
              "#ed7953"
             ],
             [
              0.7777777777777778,
              "#fb9f3a"
             ],
             [
              0.8888888888888888,
              "#fdca26"
             ],
             [
              1,
              "#f0f921"
             ]
            ],
            "type": "surface"
           }
          ],
          "table": [
           {
            "cells": {
             "fill": {
              "color": "#EBF0F8"
             },
             "line": {
              "color": "white"
             }
            },
            "header": {
             "fill": {
              "color": "#C8D4E3"
             },
             "line": {
              "color": "white"
             }
            },
            "type": "table"
           }
          ]
         },
         "layout": {
          "annotationdefaults": {
           "arrowcolor": "#2a3f5f",
           "arrowhead": 0,
           "arrowwidth": 1
          },
          "autotypenumbers": "strict",
          "coloraxis": {
           "colorbar": {
            "outlinewidth": 0,
            "ticks": ""
           }
          },
          "colorscale": {
           "diverging": [
            [
             0,
             "#8e0152"
            ],
            [
             0.1,
             "#c51b7d"
            ],
            [
             0.2,
             "#de77ae"
            ],
            [
             0.3,
             "#f1b6da"
            ],
            [
             0.4,
             "#fde0ef"
            ],
            [
             0.5,
             "#f7f7f7"
            ],
            [
             0.6,
             "#e6f5d0"
            ],
            [
             0.7,
             "#b8e186"
            ],
            [
             0.8,
             "#7fbc41"
            ],
            [
             0.9,
             "#4d9221"
            ],
            [
             1,
             "#276419"
            ]
           ],
           "sequential": [
            [
             0,
             "#0d0887"
            ],
            [
             0.1111111111111111,
             "#46039f"
            ],
            [
             0.2222222222222222,
             "#7201a8"
            ],
            [
             0.3333333333333333,
             "#9c179e"
            ],
            [
             0.4444444444444444,
             "#bd3786"
            ],
            [
             0.5555555555555556,
             "#d8576b"
            ],
            [
             0.6666666666666666,
             "#ed7953"
            ],
            [
             0.7777777777777778,
             "#fb9f3a"
            ],
            [
             0.8888888888888888,
             "#fdca26"
            ],
            [
             1,
             "#f0f921"
            ]
           ],
           "sequentialminus": [
            [
             0,
             "#0d0887"
            ],
            [
             0.1111111111111111,
             "#46039f"
            ],
            [
             0.2222222222222222,
             "#7201a8"
            ],
            [
             0.3333333333333333,
             "#9c179e"
            ],
            [
             0.4444444444444444,
             "#bd3786"
            ],
            [
             0.5555555555555556,
             "#d8576b"
            ],
            [
             0.6666666666666666,
             "#ed7953"
            ],
            [
             0.7777777777777778,
             "#fb9f3a"
            ],
            [
             0.8888888888888888,
             "#fdca26"
            ],
            [
             1,
             "#f0f921"
            ]
           ]
          },
          "colorway": [
           "#636efa",
           "#EF553B",
           "#00cc96",
           "#ab63fa",
           "#FFA15A",
           "#19d3f3",
           "#FF6692",
           "#B6E880",
           "#FF97FF",
           "#FECB52"
          ],
          "font": {
           "color": "#2a3f5f"
          },
          "geo": {
           "bgcolor": "white",
           "lakecolor": "white",
           "landcolor": "#E5ECF6",
           "showlakes": true,
           "showland": true,
           "subunitcolor": "white"
          },
          "hoverlabel": {
           "align": "left"
          },
          "hovermode": "closest",
          "mapbox": {
           "style": "light"
          },
          "paper_bgcolor": "white",
          "plot_bgcolor": "#E5ECF6",
          "polar": {
           "angularaxis": {
            "gridcolor": "white",
            "linecolor": "white",
            "ticks": ""
           },
           "bgcolor": "#E5ECF6",
           "radialaxis": {
            "gridcolor": "white",
            "linecolor": "white",
            "ticks": ""
           }
          },
          "scene": {
           "xaxis": {
            "backgroundcolor": "#E5ECF6",
            "gridcolor": "white",
            "gridwidth": 2,
            "linecolor": "white",
            "showbackground": true,
            "ticks": "",
            "zerolinecolor": "white"
           },
           "yaxis": {
            "backgroundcolor": "#E5ECF6",
            "gridcolor": "white",
            "gridwidth": 2,
            "linecolor": "white",
            "showbackground": true,
            "ticks": "",
            "zerolinecolor": "white"
           },
           "zaxis": {
            "backgroundcolor": "#E5ECF6",
            "gridcolor": "white",
            "gridwidth": 2,
            "linecolor": "white",
            "showbackground": true,
            "ticks": "",
            "zerolinecolor": "white"
           }
          },
          "shapedefaults": {
           "line": {
            "color": "#2a3f5f"
           }
          },
          "ternary": {
           "aaxis": {
            "gridcolor": "white",
            "linecolor": "white",
            "ticks": ""
           },
           "baxis": {
            "gridcolor": "white",
            "linecolor": "white",
            "ticks": ""
           },
           "bgcolor": "#E5ECF6",
           "caxis": {
            "gridcolor": "white",
            "linecolor": "white",
            "ticks": ""
           }
          },
          "title": {
           "x": 0.05
          },
          "xaxis": {
           "automargin": true,
           "gridcolor": "white",
           "linecolor": "white",
           "ticks": "",
           "title": {
            "standoff": 15
           },
           "zerolinecolor": "white",
           "zerolinewidth": 2
          },
          "yaxis": {
           "automargin": true,
           "gridcolor": "white",
           "linecolor": "white",
           "ticks": "",
           "title": {
            "standoff": 15
           },
           "zerolinecolor": "white",
           "zerolinewidth": 2
          }
         }
        },
        "title": {
         "text": "Missing Value Heatmap"
        },
        "xaxis": {
         "anchor": "y",
         "constrain": "domain",
         "domain": [
          0,
          1
         ],
         "scaleanchor": "y",
         "ticktext": [
          "Series Name",
          "Series Code",
          "Country Name",
          "Country Code",
          "1995 [YR1995]",
          "1996 [YR1996]",
          "1997 [YR1997]",
          "1998 [YR1998]",
          "1999 [YR1999]",
          "2000 [YR2000]",
          "2001 [YR2001]",
          "2002 [YR2002]",
          "2003 [YR2003]",
          "2004 [YR2004]",
          "2005 [YR2005]",
          "2006 [YR2006]",
          "2007 [YR2007]",
          "2008 [YR2008]",
          "2009 [YR2009]",
          "2010 [YR2010]",
          "2011 [YR2011]",
          "2012 [YR2012]",
          "2013 [YR2013]",
          "2014 [YR2014]",
          "2015 [YR2015]",
          "2016 [YR2016]"
         ],
         "tickvals": [
          0,
          1,
          2,
          3,
          4,
          5,
          6,
          7,
          8,
          9,
          10,
          11,
          12,
          13,
          14,
          15,
          16,
          17,
          18,
          19,
          20,
          21,
          22,
          23,
          24,
          25
         ],
         "title": {
          "text": "Columns"
         }
        },
        "yaxis": {
         "anchor": "x",
         "autorange": "reversed",
         "constrain": "domain",
         "domain": [
          0,
          1
         ],
         "title": {
          "text": "Missing Values"
         }
        }
       }
      }
     },
     "metadata": {},
     "output_type": "display_data"
    }
   ],
   "source": [
    "# Calculate the missing value counts for each column\n",
    "missing_values = data.isnull().sum()\n",
    "\n",
    "# Convert the missing value counts into a DataFrame for plotting\n",
    "missing_df = pd.DataFrame({'column': missing_values.index, 'missing_count': missing_values.values})\n",
    "\n",
    "# Create a heatmap using Plotly Express\n",
    "heatmap = px.imshow(missing_df.transpose(), color_continuous_scale='YlGnBu', \n",
    "                    labels={'x': 'Columns', 'y': 'Missing Values'},\n",
    "                    title='Missing Value Heatmap')\n",
    "\n",
    "# Set the column names explicitly for better labeling\n",
    "heatmap.update_xaxes(tickvals=list(range(len(missing_values))), ticktext=missing_values.index)\n",
    "\n",
    "# Customize hover text to show the exact number of missing values\n",
    "heatmap.update_traces(hovertemplate=\"Column: %{x}<br>Missing Count: %{z}\")\n",
    "\n",
    "# Adjust color scale for better readability\n",
    "heatmap.update_layout(coloraxis_colorbar=dict(title=\"Missing Count\", thickness=20, len=0.5, tickvals=[0, 500, 1000]))\n",
    "\n",
    "# Set background color\n",
    "heatmap.update_layout(plot_bgcolor='rgba(240,240,240,0.7)')\n",
    "\n",
    "# Show the plot\n",
    "heatmap.show()\n"
   ]
  },
  {
   "cell_type": "code",
   "execution_count": 127,
   "metadata": {},
   "outputs": [
    {
     "data": {
      "text/plain": [
       "Series Name      0\n",
       "Series Code      0\n",
       "Country Name     0\n",
       "Country Code     0\n",
       "1995 [YR1995]    0\n",
       "1996 [YR1996]    0\n",
       "1997 [YR1997]    0\n",
       "1998 [YR1998]    0\n",
       "1999 [YR1999]    0\n",
       "2000 [YR2000]    0\n",
       "2001 [YR2001]    0\n",
       "2002 [YR2002]    0\n",
       "2003 [YR2003]    0\n",
       "2004 [YR2004]    0\n",
       "2005 [YR2005]    0\n",
       "2006 [YR2006]    0\n",
       "2007 [YR2007]    0\n",
       "2008 [YR2008]    0\n",
       "2009 [YR2009]    0\n",
       "2010 [YR2010]    0\n",
       "2011 [YR2011]    0\n",
       "2012 [YR2012]    0\n",
       "2013 [YR2013]    0\n",
       "2014 [YR2014]    0\n",
       "2015 [YR2015]    0\n",
       "2016 [YR2016]    0\n",
       "dtype: int64"
      ]
     },
     "execution_count": 127,
     "metadata": {},
     "output_type": "execute_result"
    }
   ],
   "source": [
    "data.isna().sum()"
   ]
  },
  {
   "cell_type": "markdown",
   "metadata": {},
   "source": [
    "The dataset includes various metrics related to internet usage, mobile subscriptions, broadband subscriptions, and ICT exports. These metrics can provide valuable insights into the state and trends of Africa's mobile industry. Here's how these metrics can work together:\n",
    "\n",
    "**Internet Users (per 100 people):** This metric indicates the percentage of people in a country with internet access. A higher value suggests better internet penetration. It can be a key indicator of digital inclusion and technological advancement.\n",
    "\n",
    "**Mobile Cellular Subscriptions (per 100 people):** This metric reflects the number of mobile phone subscriptions per 100 people. High values imply widespread mobile adoption and connectivity, which is a strong indicator of communication infrastructure.\n",
    "\n",
    "**Fixed Broadband Subscriptions:** This metric measures the total number of fixed broadband subscriptions. It indicates the availability and usage of high-speed internet connections, which is crucial for data-intensive activities.\n",
    "\n",
    "**ICT Service Exports (BoP, current US$):**This metric represents the value of ICT services exported from a country. Higher values indicate a thriving ICT industry and potential economic growth through exports.\n",
    "\n",
    "**ICT Goods Imports (% total goods imports):** This metric showcases the importance of ICT goods in a country's imports. A higher percentage suggests a reliance on imported technology products.\n",
    "\n",
    "**High-Technology Exports (% of Manufactured Exports):** This metric measures the percentage of manufactured exports that are high-technology products. A higher percentage indicates a focus on advanced technological manufacturing.\n",
    "\n",
    "By analyzing these metrics together, we can derive several insights:\n",
    "\n",
    "**Digital Divide:** Comparing internet users and mobile subscriptions can help identify areas with a digital divide. High mobile subscriptions but low internet usage could indicate affordability issues or limited access to quality internet services.\n",
    "\n",
    "**Infrastructure Investment:** Correlating broadband subscriptions with other metrics can reveal regions where investment in broadband infrastructure is needed to improve internet access and quality.\n",
    "\n",
    "**Economic Impact:** Analyzing ICT service exports and high-tech exports as a percentage of total exports can highlight the contribution of the mobile industry to the country's economy.\n",
    "\n",
    "**Policy Recommendations:** If ICT goods imports are disproportionately high, it might suggest an opportunity to promote local technology manufacturing or reduce dependency on imports.\n",
    "\n",
    "**Growth Potential:** Identifying countries with significant growth in mobile subscriptions and internet users could indicate potential markets for mobile and digital services.\n",
    "\n",
    "In summary, combining and analyzing these metrics can offer a comprehensive view of Africa's mobile industry. This information can be used to make informed business recommendations such as investing in infrastructure, promoting digital inclusion, fostering local technology manufacturing, and identifying potential markets for mobile services.\n",
    "\n",
    "\n",
    "\n",
    "\n",
    "\n"
   ]
  },
  {
   "cell_type": "code",
   "execution_count": 128,
   "metadata": {},
   "outputs": [
    {
     "data": {
      "text/plain": [
       "Index(['Series Name', 'Series Code', 'Country Name', 'Country Code',\n",
       "       '1995 [YR1995]', '1996 [YR1996]', '1997 [YR1997]', '1998 [YR1998]',\n",
       "       '1999 [YR1999]', '2000 [YR2000]', '2001 [YR2001]', '2002 [YR2002]',\n",
       "       '2003 [YR2003]', '2004 [YR2004]', '2005 [YR2005]', '2006 [YR2006]',\n",
       "       '2007 [YR2007]', '2008 [YR2008]', '2009 [YR2009]', '2010 [YR2010]',\n",
       "       '2011 [YR2011]', '2012 [YR2012]', '2013 [YR2013]', '2014 [YR2014]',\n",
       "       '2015 [YR2015]', '2016 [YR2016]'],\n",
       "      dtype='object')"
      ]
     },
     "execution_count": 128,
     "metadata": {},
     "output_type": "execute_result"
    }
   ],
   "source": [
    "data.columns"
   ]
  },
  {
   "cell_type": "code",
   "execution_count": 129,
   "metadata": {},
   "outputs": [
    {
     "name": "stdout",
     "output_type": "stream",
     "text": [
      "<class 'pandas.core.frame.DataFrame'>\n",
      "RangeIndex: 715 entries, 0 to 714\n",
      "Data columns (total 26 columns):\n",
      " #   Column         Non-Null Count  Dtype \n",
      "---  ------         --------------  ----- \n",
      " 0   Series Name    715 non-null    object\n",
      " 1   Series Code    715 non-null    object\n",
      " 2   Country Name   715 non-null    object\n",
      " 3   Country Code   715 non-null    object\n",
      " 4   1995 [YR1995]  715 non-null    object\n",
      " 5   1996 [YR1996]  715 non-null    object\n",
      " 6   1997 [YR1997]  715 non-null    object\n",
      " 7   1998 [YR1998]  715 non-null    object\n",
      " 8   1999 [YR1999]  715 non-null    object\n",
      " 9   2000 [YR2000]  715 non-null    object\n",
      " 10  2001 [YR2001]  715 non-null    object\n",
      " 11  2002 [YR2002]  715 non-null    object\n",
      " 12  2003 [YR2003]  715 non-null    object\n",
      " 13  2004 [YR2004]  715 non-null    object\n",
      " 14  2005 [YR2005]  715 non-null    object\n",
      " 15  2006 [YR2006]  715 non-null    object\n",
      " 16  2007 [YR2007]  715 non-null    object\n",
      " 17  2008 [YR2008]  715 non-null    object\n",
      " 18  2009 [YR2009]  715 non-null    object\n",
      " 19  2010 [YR2010]  715 non-null    object\n",
      " 20  2011 [YR2011]  715 non-null    object\n",
      " 21  2012 [YR2012]  715 non-null    object\n",
      " 22  2013 [YR2013]  715 non-null    object\n",
      " 23  2014 [YR2014]  715 non-null    object\n",
      " 24  2015 [YR2015]  715 non-null    object\n",
      " 25  2016 [YR2016]  715 non-null    object\n",
      "dtypes: object(26)\n",
      "memory usage: 145.4+ KB\n"
     ]
    }
   ],
   "source": [
    "data.info()"
   ]
  },
  {
   "cell_type": "code",
   "execution_count": 130,
   "metadata": {},
   "outputs": [],
   "source": [
    "# Extract the column names from the fifth column onward\n",
    "year_columns = data.columns[4:]\n",
    "\n",
    "# Extract the year from each column name and replace the column names\n",
    "new_column_names = ['Series Name', 'Series Code', 'Country Name', 'Country Code'] + [col.split()[0] for col in year_columns]\n",
    "data.columns = new_column_names"
   ]
  },
  {
   "cell_type": "code",
   "execution_count": 131,
   "metadata": {},
   "outputs": [
    {
     "data": {
      "text/plain": [
       "Index(['Series Name', 'Series Code', 'Country Name', 'Country Code', '1995',\n",
       "       '1996', '1997', '1998', '1999', '2000', '2001', '2002', '2003', '2004',\n",
       "       '2005', '2006', '2007', '2008', '2009', '2010', '2011', '2012', '2013',\n",
       "       '2014', '2015', '2016'],\n",
       "      dtype='object')"
      ]
     },
     "execution_count": 131,
     "metadata": {},
     "output_type": "execute_result"
    }
   ],
   "source": [
    "data.columns"
   ]
  },
  {
   "cell_type": "code",
   "execution_count": 132,
   "metadata": {},
   "outputs": [
    {
     "data": {
      "text/plain": [
       "array(['Internet users (per 100 people)',\n",
       "       'Mobile cellular subscriptions (per 100 people)',\n",
       "       'Fixed broadband subscriptions',\n",
       "       'Fixed broadband subscriptions (per 100 people)',\n",
       "       'Fixed telephone subscriptions (per 100 people)',\n",
       "       'Fixed telephone subscriptions', 'Mobile cellular subscriptions',\n",
       "       'ICT service exports (BoP, current US$)',\n",
       "       'ICT goods imports (% total goods imports)',\n",
       "       'ICT service exports (% of service exports, BoP)',\n",
       "       'ICT goods exports (% of total goods exports)',\n",
       "       'High-technology exports (% of manufactured exports)',\n",
       "       'High-technology exports (current US$)'], dtype=object)"
      ]
     },
     "execution_count": 132,
     "metadata": {},
     "output_type": "execute_result"
    }
   ],
   "source": [
    "data['Series Name'].unique()"
   ]
  },
  {
   "cell_type": "markdown",
   "metadata": {},
   "source": [
    "### Analyze the Data"
   ]
  },
  {
   "cell_type": "markdown",
   "metadata": {},
   "source": [
    "***The average values of 'Internet Users (per 100 people)' and 'Mobile Cellular Subscriptions (per 100 people)' for each year to identify trends in internet and mobile phone penetration.***"
   ]
  },
  {
   "cell_type": "code",
   "execution_count": 140,
   "metadata": {},
   "outputs": [
    {
     "name": "stdout",
     "output_type": "stream",
     "text": [
      "Series Name  Internet users (per 100 people)  \\\n",
      "Year                                           \n",
      "1995                                0.033748   \n",
      "1996                                0.052252   \n",
      "1997                                0.099748   \n",
      "1998                                0.230018   \n",
      "1999                                0.477129   \n",
      "2000                                0.840790   \n",
      "2001                                1.159111   \n",
      "2002                                1.573248   \n",
      "2003                                2.031778   \n",
      "2004                                3.016113   \n",
      "2005                                3.537654   \n",
      "2006                                4.504098   \n",
      "2007                                5.069674   \n",
      "2008                                6.402091   \n",
      "2009                                6.884921   \n",
      "2010                                9.703435   \n",
      "2011                               11.070377   \n",
      "2012                               12.755827   \n",
      "2013                               14.515790   \n",
      "2014                               16.840518   \n",
      "2015                               19.539239   \n",
      "\n",
      "Series Name  Mobile cellular subscriptions (per 100 people)  \n",
      "Year                                                         \n",
      "1995                                               0.066625  \n",
      "1996                                               0.145486  \n",
      "1997                                               0.289386  \n",
      "1998                                               0.537075  \n",
      "1999                                               1.202917  \n",
      "2000                                               2.553819  \n",
      "2001                                               4.048841  \n",
      "2002                                               5.652046  \n",
      "2003                                               7.540530  \n",
      "2004                                              10.708484  \n",
      "2005                                              15.796585  \n",
      "2006                                              22.506896  \n",
      "2007                                              29.688392  \n",
      "2008                                              39.346010  \n",
      "2009                                              47.750873  \n",
      "2010                                              56.657085  \n",
      "2011                                              64.954743  \n",
      "2012                                              71.547340  \n",
      "2013                                              78.101753  \n",
      "2014                                              82.858926  \n",
      "2015                                              85.963592  \n"
     ]
    }
   ],
   "source": [
    "\n",
    "# Clean the data\n",
    "numeric_cols = data.columns[4:]\n",
    "data[numeric_cols] = data[numeric_cols].replace('..', np.nan)\n",
    "\n",
    "# Clean the data: Filter rows for the desired metrics\n",
    "selected_metrics = ['Internet users (per 100 people)', 'Mobile cellular subscriptions (per 100 people)']\n",
    "filtered_data = data[data['Series Name'].isin(selected_metrics)]\n",
    "\n",
    "# Reshape the data using melt\n",
    "melted_data = pd.melt(filtered_data, id_vars=['Country Name', 'Country Code', 'Series Name', 'Series Code'], var_name='Year', value_name='Value')\n",
    "\n",
    "# Remove rows with missing values\n",
    "melted_data = melted_data.dropna()\n",
    "\n",
    "# Convert 'Value' column to numeric\n",
    "melted_data['Value'] = pd.to_numeric(melted_data['Value'], errors='coerce')\n",
    "\n",
    "# Group by year and calculate average values for each metric\n",
    "average_values = melted_data.groupby(['Year', 'Series Name'])['Value'].mean().reset_index()\n",
    "\n",
    "# Pivot the data for plotting\n",
    "pivot_data = average_values.pivot(index='Year', columns='Series Name', values='Value')\n",
    "\n",
    "# Display the pivoted data\n",
    "print(pivot_data)"
   ]
  },
  {
   "cell_type": "markdown",
   "metadata": {},
   "source": [
    "***The total 'Fixed Broadband Subscriptions' for each year to understand the growth of high-speed internet connections.***"
   ]
  },
  {
   "cell_type": "code",
   "execution_count": 141,
   "metadata": {},
   "outputs": [
    {
     "name": "stdout",
     "output_type": "stream",
     "text": [
      "    Year       Value\n",
      "0   2000        25.0\n",
      "1   2001       807.0\n",
      "2   2002     60089.0\n",
      "3   2003    107053.0\n",
      "4   2004    267655.0\n",
      "5   2005    985058.0\n",
      "6   2006   1342775.0\n",
      "7   2007   2681009.0\n",
      "8   2008   3624555.0\n",
      "9   2009   4718654.0\n",
      "10  2010   6114707.0\n",
      "11  2011   7370480.0\n",
      "12  2012   8946309.0\n",
      "13  2013  11550162.0\n",
      "14  2014  13520931.0\n",
      "15  2015  18167393.0\n"
     ]
    }
   ],
   "source": [
    "# Clean the data: Filter rows for the desired metric\n",
    "selected_metric = 'Fixed broadband subscriptions'\n",
    "filtered_data = data[data['Series Name'] == selected_metric]\n",
    "\n",
    "# Reshape the data using melt\n",
    "melted_data = pd.melt(filtered_data, id_vars=['Country Name', 'Country Code', 'Series Name', 'Series Code'], var_name='Year', value_name='Value')\n",
    "\n",
    "# Remove rows with missing values\n",
    "melted_data = melted_data.dropna()\n",
    "\n",
    "# Convert 'Value' column to numeric\n",
    "melted_data['Value'] = pd.to_numeric(melted_data['Value'], errors='coerce')\n",
    "\n",
    "# Group by year and calculate the total 'Fixed Broadband Subscriptions' for each year\n",
    "total_subscriptions = melted_data.groupby('Year')['Value'].sum().reset_index()\n",
    "\n",
    "# Display the total subscriptions data\n",
    "print(total_subscriptions)"
   ]
  },
  {
   "cell_type": "markdown",
   "metadata": {},
   "source": [
    "***The sum of 'ICT Service Exports (BoP, current US$)' for each year to analyze the export value of ICT services.***"
   ]
  },
  {
   "cell_type": "code",
   "execution_count": 142,
   "metadata": {},
   "outputs": [
    {
     "name": "stdout",
     "output_type": "stream",
     "text": [
      "    Year         Value\n",
      "0   1995  3.956464e+09\n",
      "1   1996  5.063930e+09\n",
      "2   1997  4.742290e+09\n",
      "3   1998  4.297319e+09\n",
      "4   1999  4.151231e+09\n",
      "5   2000  5.057206e+09\n",
      "6   2001  4.872449e+09\n",
      "7   2002  5.323158e+09\n",
      "8   2003  5.491721e+09\n",
      "9   2004  7.546714e+09\n",
      "10  2005  7.682244e+09\n",
      "11  2006  8.568057e+09\n",
      "12  2007  1.089602e+10\n",
      "13  2008  1.383739e+10\n",
      "14  2009  1.819272e+10\n",
      "15  2010  1.360512e+10\n",
      "16  2011  2.200824e+10\n",
      "17  2012  2.307024e+10\n",
      "18  2013  1.493555e+10\n",
      "19  2014  1.415936e+10\n",
      "20  2015  9.894007e+09\n"
     ]
    }
   ],
   "source": [
    "# Clean the data: Filter rows for the desired metric\n",
    "selected_metric = 'ICT service exports (BoP, current US$)'\n",
    "filtered_data = data[data['Series Name'] == selected_metric]\n",
    "\n",
    "# Reshape the data using melt\n",
    "melted_data = pd.melt(filtered_data, id_vars=['Country Name', 'Country Code', 'Series Name', 'Series Code'], var_name='Year', value_name='Value')\n",
    "\n",
    "# Remove rows with missing values\n",
    "melted_data = melted_data.dropna()\n",
    "\n",
    "# Convert 'Value' column to numeric\n",
    "melted_data['Value'] = pd.to_numeric(melted_data['Value'], errors='coerce')\n",
    "\n",
    "# Group by year and calculate the sum of 'ICT Service Exports (BoP, current US$)' for each year\n",
    "total_exports = melted_data.groupby('Year')['Value'].sum().reset_index()\n",
    "\n",
    "# Display the total exports data\n",
    "print(total_exports)"
   ]
  },
  {
   "cell_type": "markdown",
   "metadata": {},
   "source": [
    "###  Visualization using Plotly"
   ]
  },
  {
   "cell_type": "markdown",
   "metadata": {},
   "source": [
    "***The trends in internet users and mobile subscriptions over the years.***"
   ]
  },
  {
   "cell_type": "code",
   "execution_count": 147,
   "metadata": {},
   "outputs": [
    {
     "data": {
      "application/vnd.plotly.v1+json": {
       "config": {
        "plotlyServerURL": "https://plot.ly"
       },
       "data": [
        {
         "hovertemplate": "Series Name=Internet users (per 100 people)<br>Year=%{x}<br>Count=%{y}<extra></extra>",
         "legendgroup": "Internet users (per 100 people)",
         "line": {
          "color": "#636efa",
          "dash": "solid"
         },
         "marker": {
          "symbol": "circle"
         },
         "mode": "lines",
         "name": "Internet users (per 100 people)",
         "showlegend": true,
         "type": "scattergl",
         "x": [
          "1995",
          "1995",
          "1995",
          "1995",
          "1995",
          "1995",
          "1995",
          "1995",
          "1995",
          "1995",
          "1995",
          "1995",
          "1995",
          "1995",
          "1995",
          "1995",
          "1995",
          "1995",
          "1995",
          "1995",
          "1995",
          "1995",
          "1995",
          "1995",
          "1995",
          "1995",
          "1995",
          "1995",
          "1995",
          "1995",
          "1995",
          "1995",
          "1995",
          "1995",
          "1995",
          "1995",
          "1995",
          "1995",
          "1995",
          "1995",
          "1995",
          "1995",
          "1995",
          "1995",
          "1995",
          "1995",
          "1995",
          "1995",
          "1995",
          "1995",
          "1995",
          "1995",
          "1995",
          "1995",
          "1995",
          "1996",
          "1996",
          "1996",
          "1996",
          "1996",
          "1996",
          "1996",
          "1996",
          "1996",
          "1996",
          "1996",
          "1996",
          "1996",
          "1996",
          "1996",
          "1996",
          "1996",
          "1996",
          "1996",
          "1996",
          "1996",
          "1996",
          "1996",
          "1996",
          "1996",
          "1996",
          "1996",
          "1996",
          "1996",
          "1996",
          "1996",
          "1996",
          "1996",
          "1996",
          "1996",
          "1996",
          "1996",
          "1996",
          "1996",
          "1996",
          "1996",
          "1996",
          "1996",
          "1996",
          "1996",
          "1996",
          "1996",
          "1996",
          "1996",
          "1996",
          "1996",
          "1996",
          "1996",
          "1996",
          "1996",
          "1997",
          "1997",
          "1997",
          "1997",
          "1997",
          "1997",
          "1997",
          "1997",
          "1997",
          "1997",
          "1997",
          "1997",
          "1997",
          "1997",
          "1997",
          "1997",
          "1997",
          "1997",
          "1997",
          "1997",
          "1997",
          "1997",
          "1997",
          "1997",
          "1997",
          "1997",
          "1997",
          "1997",
          "1997",
          "1997",
          "1997",
          "1997",
          "1997",
          "1997",
          "1997",
          "1997",
          "1997",
          "1997",
          "1997",
          "1997",
          "1997",
          "1997",
          "1997",
          "1997",
          "1997",
          "1997",
          "1997",
          "1997",
          "1997",
          "1997",
          "1997",
          "1997",
          "1997",
          "1997",
          "1997",
          "1998",
          "1998",
          "1998",
          "1998",
          "1998",
          "1998",
          "1998",
          "1998",
          "1998",
          "1998",
          "1998",
          "1998",
          "1998",
          "1998",
          "1998",
          "1998",
          "1998",
          "1998",
          "1998",
          "1998",
          "1998",
          "1998",
          "1998",
          "1998",
          "1998",
          "1998",
          "1998",
          "1998",
          "1998",
          "1998",
          "1998",
          "1998",
          "1998",
          "1998",
          "1998",
          "1998",
          "1998",
          "1998",
          "1998",
          "1998",
          "1998",
          "1998",
          "1998",
          "1998",
          "1998",
          "1998",
          "1998",
          "1998",
          "1998",
          "1998",
          "1998",
          "1998",
          "1998",
          "1998",
          "1998",
          "1999",
          "1999",
          "1999",
          "1999",
          "1999",
          "1999",
          "1999",
          "1999",
          "1999",
          "1999",
          "1999",
          "1999",
          "1999",
          "1999",
          "1999",
          "1999",
          "1999",
          "1999",
          "1999",
          "1999",
          "1999",
          "1999",
          "1999",
          "1999",
          "1999",
          "1999",
          "1999",
          "1999",
          "1999",
          "1999",
          "1999",
          "1999",
          "1999",
          "1999",
          "1999",
          "1999",
          "1999",
          "1999",
          "1999",
          "1999",
          "1999",
          "1999",
          "1999",
          "1999",
          "1999",
          "1999",
          "1999",
          "1999",
          "1999",
          "1999",
          "1999",
          "1999",
          "1999",
          "1999",
          "1999",
          "2000",
          "2000",
          "2000",
          "2000",
          "2000",
          "2000",
          "2000",
          "2000",
          "2000",
          "2000",
          "2000",
          "2000",
          "2000",
          "2000",
          "2000",
          "2000",
          "2000",
          "2000",
          "2000",
          "2000",
          "2000",
          "2000",
          "2000",
          "2000",
          "2000",
          "2000",
          "2000",
          "2000",
          "2000",
          "2000",
          "2000",
          "2000",
          "2000",
          "2000",
          "2000",
          "2000",
          "2000",
          "2000",
          "2000",
          "2000",
          "2000",
          "2000",
          "2000",
          "2000",
          "2000",
          "2000",
          "2000",
          "2000",
          "2000",
          "2000",
          "2000",
          "2000",
          "2000",
          "2000",
          "2000",
          "2001",
          "2001",
          "2001",
          "2001",
          "2001",
          "2001",
          "2001",
          "2001",
          "2001",
          "2001",
          "2001",
          "2001",
          "2001",
          "2001",
          "2001",
          "2001",
          "2001",
          "2001",
          "2001",
          "2001",
          "2001",
          "2001",
          "2001",
          "2001",
          "2001",
          "2001",
          "2001",
          "2001",
          "2001",
          "2001",
          "2001",
          "2001",
          "2001",
          "2001",
          "2001",
          "2001",
          "2001",
          "2001",
          "2001",
          "2001",
          "2001",
          "2001",
          "2001",
          "2001",
          "2001",
          "2001",
          "2001",
          "2001",
          "2001",
          "2001",
          "2001",
          "2001",
          "2001",
          "2001",
          "2001",
          "2002",
          "2002",
          "2002",
          "2002",
          "2002",
          "2002",
          "2002",
          "2002",
          "2002",
          "2002",
          "2002",
          "2002",
          "2002",
          "2002",
          "2002",
          "2002",
          "2002",
          "2002",
          "2002",
          "2002",
          "2002",
          "2002",
          "2002",
          "2002",
          "2002",
          "2002",
          "2002",
          "2002",
          "2002",
          "2002",
          "2002",
          "2002",
          "2002",
          "2002",
          "2002",
          "2002",
          "2002",
          "2002",
          "2002",
          "2002",
          "2002",
          "2002",
          "2002",
          "2002",
          "2002",
          "2002",
          "2002",
          "2002",
          "2002",
          "2002",
          "2002",
          "2002",
          "2002",
          "2002",
          "2002",
          "2003",
          "2003",
          "2003",
          "2003",
          "2003",
          "2003",
          "2003",
          "2003",
          "2003",
          "2003",
          "2003",
          "2003",
          "2003",
          "2003",
          "2003",
          "2003",
          "2003",
          "2003",
          "2003",
          "2003",
          "2003",
          "2003",
          "2003",
          "2003",
          "2003",
          "2003",
          "2003",
          "2003",
          "2003",
          "2003",
          "2003",
          "2003",
          "2003",
          "2003",
          "2003",
          "2003",
          "2003",
          "2003",
          "2003",
          "2003",
          "2003",
          "2003",
          "2003",
          "2003",
          "2003",
          "2003",
          "2003",
          "2003",
          "2003",
          "2003",
          "2003",
          "2003",
          "2003",
          "2003",
          "2003",
          "2004",
          "2004",
          "2004",
          "2004",
          "2004",
          "2004",
          "2004",
          "2004",
          "2004",
          "2004",
          "2004",
          "2004",
          "2004",
          "2004",
          "2004",
          "2004",
          "2004",
          "2004",
          "2004",
          "2004",
          "2004",
          "2004",
          "2004",
          "2004",
          "2004",
          "2004",
          "2004",
          "2004",
          "2004",
          "2004",
          "2004",
          "2004",
          "2004",
          "2004",
          "2004",
          "2004",
          "2004",
          "2004",
          "2004",
          "2004",
          "2004",
          "2004",
          "2004",
          "2004",
          "2004",
          "2004",
          "2004",
          "2004",
          "2004",
          "2004",
          "2004",
          "2004",
          "2004",
          "2004",
          "2004",
          "2005",
          "2005",
          "2005",
          "2005",
          "2005",
          "2005",
          "2005",
          "2005",
          "2005",
          "2005",
          "2005",
          "2005",
          "2005",
          "2005",
          "2005",
          "2005",
          "2005",
          "2005",
          "2005",
          "2005",
          "2005",
          "2005",
          "2005",
          "2005",
          "2005",
          "2005",
          "2005",
          "2005",
          "2005",
          "2005",
          "2005",
          "2005",
          "2005",
          "2005",
          "2005",
          "2005",
          "2005",
          "2005",
          "2005",
          "2005",
          "2005",
          "2005",
          "2005",
          "2005",
          "2005",
          "2005",
          "2005",
          "2005",
          "2005",
          "2005",
          "2005",
          "2005",
          "2005",
          "2005",
          "2005",
          "2006",
          "2006",
          "2006",
          "2006",
          "2006",
          "2006",
          "2006",
          "2006",
          "2006",
          "2006",
          "2006",
          "2006",
          "2006",
          "2006",
          "2006",
          "2006",
          "2006",
          "2006",
          "2006",
          "2006",
          "2006",
          "2006",
          "2006",
          "2006",
          "2006",
          "2006",
          "2006",
          "2006",
          "2006",
          "2006",
          "2006",
          "2006",
          "2006",
          "2006",
          "2006",
          "2006",
          "2006",
          "2006",
          "2006",
          "2006",
          "2006",
          "2006",
          "2006",
          "2006",
          "2006",
          "2006",
          "2006",
          "2006",
          "2006",
          "2006",
          "2006",
          "2006",
          "2006",
          "2006",
          "2006",
          "2007",
          "2007",
          "2007",
          "2007",
          "2007",
          "2007",
          "2007",
          "2007",
          "2007",
          "2007",
          "2007",
          "2007",
          "2007",
          "2007",
          "2007",
          "2007",
          "2007",
          "2007",
          "2007",
          "2007",
          "2007",
          "2007",
          "2007",
          "2007",
          "2007",
          "2007",
          "2007",
          "2007",
          "2007",
          "2007",
          "2007",
          "2007",
          "2007",
          "2007",
          "2007",
          "2007",
          "2007",
          "2007",
          "2007",
          "2007",
          "2007",
          "2007",
          "2007",
          "2007",
          "2007",
          "2007",
          "2007",
          "2007",
          "2007",
          "2007",
          "2007",
          "2007",
          "2007",
          "2007",
          "2007",
          "2008",
          "2008",
          "2008",
          "2008",
          "2008",
          "2008",
          "2008",
          "2008",
          "2008",
          "2008",
          "2008",
          "2008",
          "2008",
          "2008",
          "2008",
          "2008",
          "2008",
          "2008",
          "2008",
          "2008",
          "2008",
          "2008",
          "2008",
          "2008",
          "2008",
          "2008",
          "2008",
          "2008",
          "2008",
          "2008",
          "2008",
          "2008",
          "2008",
          "2008",
          "2008",
          "2008",
          "2008",
          "2008",
          "2008",
          "2008",
          "2008",
          "2008",
          "2008",
          "2008",
          "2008",
          "2008",
          "2008",
          "2008",
          "2008",
          "2008",
          "2008",
          "2008",
          "2008",
          "2008",
          "2008",
          "2009",
          "2009",
          "2009",
          "2009",
          "2009",
          "2009",
          "2009",
          "2009",
          "2009",
          "2009",
          "2009",
          "2009",
          "2009",
          "2009",
          "2009",
          "2009",
          "2009",
          "2009",
          "2009",
          "2009",
          "2009",
          "2009",
          "2009",
          "2009",
          "2009",
          "2009",
          "2009",
          "2009",
          "2009",
          "2009",
          "2009",
          "2009",
          "2009",
          "2009",
          "2009",
          "2009",
          "2009",
          "2009",
          "2009",
          "2009",
          "2009",
          "2009",
          "2009",
          "2009",
          "2009",
          "2009",
          "2009",
          "2009",
          "2009",
          "2009",
          "2009",
          "2009",
          "2009",
          "2009",
          "2009",
          "2010",
          "2010",
          "2010",
          "2010",
          "2010",
          "2010",
          "2010",
          "2010",
          "2010",
          "2010",
          "2010",
          "2010",
          "2010",
          "2010",
          "2010",
          "2010",
          "2010",
          "2010",
          "2010",
          "2010",
          "2010",
          "2010",
          "2010",
          "2010",
          "2010",
          "2010",
          "2010",
          "2010",
          "2010",
          "2010",
          "2010",
          "2010",
          "2010",
          "2010",
          "2010",
          "2010",
          "2010",
          "2010",
          "2010",
          "2010",
          "2010",
          "2010",
          "2010",
          "2010",
          "2010",
          "2010",
          "2010",
          "2010",
          "2010",
          "2010",
          "2010",
          "2010",
          "2010",
          "2010",
          "2010",
          "2011",
          "2011",
          "2011",
          "2011",
          "2011",
          "2011",
          "2011",
          "2011",
          "2011",
          "2011",
          "2011",
          "2011",
          "2011",
          "2011",
          "2011",
          "2011",
          "2011",
          "2011",
          "2011",
          "2011",
          "2011",
          "2011",
          "2011",
          "2011",
          "2011",
          "2011",
          "2011",
          "2011",
          "2011",
          "2011",
          "2011",
          "2011",
          "2011",
          "2011",
          "2011",
          "2011",
          "2011",
          "2011",
          "2011",
          "2011",
          "2011",
          "2011",
          "2011",
          "2011",
          "2011",
          "2011",
          "2011",
          "2011",
          "2011",
          "2011",
          "2011",
          "2011",
          "2011",
          "2011",
          "2011",
          "2012",
          "2012",
          "2012",
          "2012",
          "2012",
          "2012",
          "2012",
          "2012",
          "2012",
          "2012",
          "2012",
          "2012",
          "2012",
          "2012",
          "2012",
          "2012",
          "2012",
          "2012",
          "2012",
          "2012",
          "2012",
          "2012",
          "2012",
          "2012",
          "2012",
          "2012",
          "2012",
          "2012",
          "2012",
          "2012",
          "2012",
          "2012",
          "2012",
          "2012",
          "2012",
          "2012",
          "2012",
          "2012",
          "2012",
          "2012",
          "2012",
          "2012",
          "2012",
          "2012",
          "2012",
          "2012",
          "2012",
          "2012",
          "2012",
          "2012",
          "2012",
          "2012",
          "2012",
          "2012",
          "2012",
          "2013",
          "2013",
          "2013",
          "2013",
          "2013",
          "2013",
          "2013",
          "2013",
          "2013",
          "2013",
          "2013",
          "2013",
          "2013",
          "2013",
          "2013",
          "2013",
          "2013",
          "2013",
          "2013",
          "2013",
          "2013",
          "2013",
          "2013",
          "2013",
          "2013",
          "2013",
          "2013",
          "2013",
          "2013",
          "2013",
          "2013",
          "2013",
          "2013",
          "2013",
          "2013",
          "2013",
          "2013",
          "2013",
          "2013",
          "2013",
          "2013",
          "2013",
          "2013",
          "2013",
          "2013",
          "2013",
          "2013",
          "2013",
          "2013",
          "2013",
          "2013",
          "2013",
          "2013",
          "2013",
          "2013",
          "2014",
          "2014",
          "2014",
          "2014",
          "2014",
          "2014",
          "2014",
          "2014",
          "2014",
          "2014",
          "2014",
          "2014",
          "2014",
          "2014",
          "2014",
          "2014",
          "2014",
          "2014",
          "2014",
          "2014",
          "2014",
          "2014",
          "2014",
          "2014",
          "2014",
          "2014",
          "2014",
          "2014",
          "2014",
          "2014",
          "2014",
          "2014",
          "2014",
          "2014",
          "2014",
          "2014",
          "2014",
          "2014",
          "2014",
          "2014",
          "2014",
          "2014",
          "2014",
          "2014",
          "2014",
          "2014",
          "2014",
          "2014",
          "2014",
          "2014",
          "2014",
          "2014",
          "2014",
          "2014",
          "2014",
          "2015",
          "2015",
          "2015",
          "2015",
          "2015",
          "2015",
          "2015",
          "2015",
          "2015",
          "2015",
          "2015",
          "2015",
          "2015",
          "2015",
          "2015",
          "2015",
          "2015",
          "2015",
          "2015",
          "2015",
          "2015",
          "2015",
          "2015",
          "2015",
          "2015",
          "2015",
          "2015",
          "2015",
          "2015",
          "2015",
          "2015",
          "2015",
          "2015",
          "2015",
          "2015",
          "2015",
          "2015",
          "2015",
          "2015",
          "2015",
          "2015",
          "2015",
          "2015",
          "2015",
          "2015",
          "2015",
          "2015",
          "2015",
          "2015",
          "2015",
          "2015",
          "2015",
          "2015",
          "2015",
          "2015",
          "2016",
          "2016",
          "2016",
          "2016",
          "2016",
          "2016",
          "2016",
          "2016",
          "2016",
          "2016",
          "2016",
          "2016",
          "2016",
          "2016",
          "2016",
          "2016",
          "2016",
          "2016",
          "2016",
          "2016",
          "2016",
          "2016",
          "2016",
          "2016",
          "2016",
          "2016",
          "2016",
          "2016",
          "2016",
          "2016",
          "2016",
          "2016",
          "2016",
          "2016",
          "2016",
          "2016",
          "2016",
          "2016",
          "2016",
          "2016",
          "2016",
          "2016",
          "2016",
          "2016",
          "2016",
          "2016",
          "2016",
          "2016",
          "2016",
          "2016",
          "2016",
          "2016",
          "2016",
          "2016",
          "2016"
         ],
         "xaxis": "x",
         "y": [
          null,
          null,
          null,
          0.064521041,
          null,
          0,
          null,
          null,
          null,
          null,
          null,
          null,
          null,
          0.000200256,
          null,
          0,
          0.0000175,
          null,
          0.009217541,
          0.000347918,
          0.000668589,
          null,
          0.000727482,
          null,
          null,
          null,
          null,
          null,
          null,
          null,
          null,
          0.006172051,
          null,
          null,
          null,
          null,
          0.000692848,
          null,
          0,
          0,
          0.676740104,
          null,
          0,
          0.00103175,
          null,
          0,
          0.002863471,
          0.008783623,
          0.00768354,
          0.001768954,
          0.01603083,
          0.031319638,
          null,
          0.011191954,
          0.003710492,
          0.068722178,
          0.000775929,
          0.0016931,
          0.15745423,
          0.000960519,
          0.000803592,
          null,
          null,
          0.005849503,
          null,
          null,
          0.000108207,
          0.00352686,
          0.00840978,
          null,
          0,
          0.001703448,
          0,
          0.03550736,
          0.005648763,
          0.001948942,
          null,
          0.008839115,
          0.00284594,
          null,
          0.003695196,
          null,
          0.002055228,
          null,
          0.183769158,
          0.003042979,
          0.009032145,
          0.001039305,
          0.00883298,
          0.000883372,
          null,
          0.011238219,
          0.651474286,
          0.002506116,
          0.00150955,
          0.841882931,
          null,
          0,
          0.050399009,
          0.001622155,
          0.010929139,
          0.004625948,
          0.009069176,
          0.016790484,
          0.001738533,
          0.031166241,
          0.061466899,
          null,
          0.027615372,
          0.005675444,
          0.128779789,
          0.005673746,
          0.024648796,
          0.30774685,
          0.018686353,
          0.007979439,
          0.24096792,
          0.006768744,
          0.014270881,
          0.000658168,
          0,
          0.000211213,
          0.003469104,
          0.018828361,
          0.041462292,
          0.009017718,
          0.00496672,
          0.047999009,
          0.051311347,
          0.027537542,
          0.003803109,
          0.016389063,
          0.034406051,
          0.005584433,
          0.004489443,
          0.014333647,
          0.004668518,
          0.010085919,
          0.004172527,
          0.475629193,
          0.011842611,
          0.058750679,
          0.002008766,
          0.017237401,
          0.001625791,
          null,
          0.027347441,
          1.28295593,
          0.004987835,
          0.002948713,
          1.632093791,
          null,
          0.001231819,
          0.088545986,
          0.007900283,
          0.211139465,
          0.010319341,
          0.009329658,
          0.033080327,
          0.010268463,
          0.082941498,
          0.090480245,
          null,
          0.043656974,
          0.021635203,
          0.233989844,
          0.018453724,
          0.047877304,
          0.602400929,
          0.045423484,
          0.015842776,
          0.472735008,
          0.013216341,
          0.027878201,
          0.004268504,
          0.03787097,
          0.000413065,
          0.003415143,
          0.060974439,
          0.094423774,
          0.008774236,
          0.009663517,
          0.17012488,
          0.206094461,
          0.032240443,
          0.006203369,
          0.024060421,
          0.050261388,
          0.010956533,
          0.004099387,
          0.062561023,
          0.018057365,
          0.019793888,
          0.040594795,
          2.565279962,
          0.020197055,
          0.286745093,
          0.002911503,
          0.025231461,
          0.011763573,
          0.295847047,
          0.079871379,
          2.526177514,
          0.014805065,
          0.00716442,
          2.906220867,
          null,
          0.004805071,
          0.096099605,
          0.009244125,
          0.305583935,
          0.065289465,
          0.030226183,
          0.081648476,
          0.020238555,
          0.094696004,
          0.147987377,
          null,
          0.107940957,
          0.142300767,
          0.359684995,
          0.071964087,
          0.154906741,
          1.122391474,
          0.061780293,
          0.039204469,
          1.159982461,
          0.129067581,
          0.040894287,
          0.012321728,
          0.148162964,
          0.001009076,
          0.016791049,
          0.118685917,
          0.097415945,
          0.025495028,
          0.012541599,
          0.249009564,
          0.715827015,
          0.104895466,
          0.060808919,
          0.117702448,
          0.114256028,
          0.05380446,
          0.011328732,
          0.168608781,
          0.087278755,
          0.060909873,
          0.118464464,
          4.652213227,
          0.056250629,
          0.336217708,
          0.028136022,
          0.041038723,
          0.067176482,
          0.363203161,
          0.311090952,
          6.229054803,
          0.048490656,
          0.013910394,
          4.116249583,
          null,
          0.008794581,
          0.4707176,
          0.075130889,
          0.590363264,
          0.10554394,
          0.147053172,
          0.161675528,
          0.199523843,
          0.105761909,
          0.290445278,
          0.133617289,
          1.602494764,
          0.175595345,
          0.501116248,
          0.105045562,
          0.225247851,
          2.902666622,
          0.077080169,
          0.077248447,
          1.822443852,
          0.252120078,
          0.053394174,
          0.035707076,
          0.271740607,
          0.005902114,
          0.026354732,
          0.231461671,
          0.132354665,
          0.136711941,
          0.015263767,
          1.216140618,
          0.921794919,
          0.153615298,
          0.095424924,
          0.230103171,
          0.318059714,
          0.21180607,
          0.017702706,
          0.196394691,
          0.126780945,
          0.142545755,
          0.192031462,
          7.281535115,
          0.10959253,
          1.644739547,
          0.036261294,
          0.064080808,
          0.06283146,
          4.638516816,
          0.403967486,
          7.395629183,
          0.118254246,
          0.02,
          5.348559732,
          null,
          0.025785032,
          0.926191777,
          0.11719444,
          0.8,
          0.163714063,
          0.191071643,
          0.401433535,
          0.491705679,
          0.194500528,
          0.641265038,
          0.187042622,
          2.750740293,
          0.693791245,
          0.642242042,
          0.136013867,
          0.36341789,
          3.430886787,
          0.157732465,
          0.106001245,
          2.685332713,
          0.277051322,
          0.078543428,
          0.045934134,
          0.443068373,
          0.011475782,
          0.032223616,
          0.395747702,
          0.165260423,
          0.157815289,
          0.037162381,
          1.347620222,
          1.336791166,
          0.20000806,
          0.175541868,
          0.299569145,
          0.619782266,
          0.261150063,
          0.033812227,
          0.222511586,
          0.164020725,
          0.185897413,
          0.261448552,
          8.780904019,
          0.160031947,
          2.416979442,
          0.105185431,
          0.08990137,
          0.24067241,
          6.310917888,
          0.983794059,
          11.01510293,
          0.160264445,
          0.079039179,
          6.346619318,
          null,
          0.140185224,
          1.28159005,
          0.171300351,
          0.9,
          0.237945087,
          0.233129556,
          0.799846046,
          0.646114017,
          0.343526263,
          0.838945611,
          0.366533175,
          4.297966035,
          1.371438101,
          0.829108637,
          0.270376746,
          0.702945595,
          3.385922351,
          0.200992598,
          0.118228412,
          3.518757175,
          0.360871584,
          0.128537117,
          0.166069665,
          0.554869675,
          0.092790702,
          0.157249517,
          0.497929361,
          0.321197997,
          0.227090138,
          0.072402262,
          1.939530106,
          1.796779883,
          0.830284034,
          0.402022749,
          1.022993234,
          1.207773885,
          1.083943137,
          0.032713307,
          0.339720155,
          0.215094727,
          0.227045578,
          0.363229415,
          10.25262467,
          0.259612611,
          2.633699769,
          0.127152469,
          0.320461976,
          0.292784719,
          7.580665169,
          1.006454537,
          14.30417083,
          0.176198957,
          0.115614213,
          6.710322437,
          null,
          0.439477639,
          1.816203807,
          0.222484414,
          1,
          0.384093505,
          0.477750907,
          1.1,
          1.59164126,
          0.486971705,
          2.719999715,
          2.244418222,
          5.252887295,
          2.373253192,
          1.109244376,
          0.370682065,
          0.951327115,
          3.345190174,
          0.373440303,
          0.201273197,
          4.324885391,
          0.587622611,
          0.151563338,
          0.320308555,
          0.84818937,
          0.134914837,
          0.460014187,
          0.758669629,
          0.520524272,
          null,
          0.105811659,
          2.659586594,
          2.436781193,
          1.193057911,
          0.450960371,
          1.354197478,
          2.941902861,
          1.53249659,
          0.031868935,
          0.423252419,
          0.278815116,
          0.310364443,
          0.424004896,
          12.1871062,
          0.419538844,
          3.359839886,
          0.155698704,
          0.558576245,
          0.356918467,
          10.16184431,
          2.10143643,
          14.59250432,
          0.190173282,
          0.376198003,
          7.007691726,
          null,
          0.538471703,
          2.437073851,
          0.676962857,
          1.2,
          0.46484984,
          0.980483039,
          1.8,
          2.195359731,
          0.625940229,
          4.037885107,
          2.814517987,
          6.490845795,
          3.353366681,
          1.506041597,
          0.464814618,
          1.182540965,
          3.304889253,
          0.400295285,
          0.349060462,
          5.31883207,
          0.976075415,
          0.223401395,
          0.360920107,
          1.327327178,
          0.196208375,
          1.07750493,
          0.849282415,
          0.843930285,
          null,
          0.155334521,
          2.9790698,
          3.308003478,
          1.716797704,
          0.508819332,
          1.808142203,
          3.023528042,
          2.175524339,
          0.031011185,
          0.525353655,
          0.347505335,
          0.43281964,
          0.481470438,
          13.68908859,
          0.679447835,
          3.804715615,
          0.189933734,
          1.286137641,
          0.430854243,
          13.32285269,
          4.38602398,
          24.27213922,
          0.203007681,
          1.053454744,
          8.425118683,
          null,
          0.791561615,
          3.228685073,
          0.877574971,
          1.5,
          0.71997068,
          2.013549532,
          2.1,
          4.634475088,
          0.781317175,
          11.92,
          3.532838162,
          8.528817752,
          11.60793477,
          2.044469415,
          1.143366827,
          1.271031439,
          3.262554036,
          0.469914489,
          0.542142866,
          6.074087107,
          1.402654226,
          0.268195609,
          0.3992577,
          2,
          0.238037799,
          1.46342006,
          1.039238205,
          1.149789671,
          null,
          0.219659819,
          4.89326475,
          3.799001139,
          1.831197461,
          0.542254181,
          1.901365316,
          3.101897702,
          2.580245484,
          null,
          0.567721802,
          0.384489334,
          0.507063136,
          0.669966475,
          15.17222875,
          0.854357118,
          4.010046644,
          0.221341351,
          3.549155718,
          0.556041165,
          13.75948422,
          4.786684083,
          25.41326815,
          0.21539161,
          1.077327839,
          7.48854253,
          null,
          1.292040678,
          3.696961073,
          1.1,
          1.8,
          1.742205503,
          2.851752261,
          2.4,
          5.843942092,
          0.953611449,
          12.75,
          3.917787977,
          9.655086542,
          15.08444452,
          2.925828755,
          1.5,
          1.537854346,
          4.289932975,
          0.632707564,
          0.65759259,
          6.808911008,
          2.028744791,
          0.311159173,
          0.581045764,
          2.2,
          0.29605361,
          2.007990079,
          1.524900791,
          1.279193596,
          null,
          0.310592657,
          5.489200803,
          5.237691158,
          2.723175973,
          0.637492123,
          2.057196705,
          7.53378972,
          2.979708187,
          null,
          0.607552239,
          0.42513749,
          0.729627281,
          0.979661253,
          16.7,
          0.842954488,
          4.398870647,
          0.294033977,
          5.545036083,
          null,
          14.18201978,
          5.611738652,
          34.95197117,
          0.227669467,
          1.100216368,
          7.607139675,
          null,
          null,
          3.696538789,
          1.3,
          2,
          2.529363038,
          4.159913394,
          2.4,
          7.375984956,
          1.270041159,
          13.66,
          4.301051789,
          12.98640865,
          19.77119157,
          3.670158994,
          1.7,
          1.79,
          5.28,
          0.75,
          0.7,
          8.28321982,
          2.93,
          0.375815961,
          0.847224521,
          2.5,
          0.37,
          2.759704374,
          1.8,
          1.557123059,
          0.41,
          0.37,
          5.767004576,
          6.205037419,
          3.85,
          0.780025279,
          2.206302237,
          7.95,
          3.44543126,
          0.551376581,
          0.65,
          0.965864737,
          0.81,
          1.433613196,
          20.22,
          0.91,
          4.835610778,
          0.39039062,
          6.77,
          2.115387178,
          14.5904832,
          6.89,
          38.38,
          0.239834699,
          1.122235622,
          8.065375174,
          null,
          8.66,
          4.1,
          1.6,
          2.2,
          3.671965351,
          4.87,
          3,
          9.451190626,
          1.62,
          16.03,
          4.721999379,
          17.1,
          21.5,
          5.616740719,
          1.9,
          1.85,
          6.25,
          0.92,
          0.81,
          14,
          3.4,
          1,
          1.19,
          3,
          0.44,
          4.287509903,
          1.9,
          1.82,
          0.47,
          0.45,
          6.21,
          6.88,
          4.27,
          0.92,
          2.354888711,
          8.67,
          3.58,
          0.53,
          1.65,
          0.7,
          1.57,
          1.87,
          21.81,
          1.56,
          5.329003772,
          0.7,
          15.86,
          4.5,
          15.48,
          7.12,
          40.44,
          0.25,
          1.142687372,
          8.43,
          null,
          null,
          6.85,
          1.9,
          2.4,
          7.9,
          5.55,
          3.5,
          10.18,
          2.26,
          18.01,
          9,
          27.53,
          33.1,
          6.922015421,
          2.3,
          2.24,
          6.15,
          1.13,
          0.9,
          21,
          3.84,
          1.8,
          1.5,
          3.5,
          0.56,
          4.5,
          2,
          2.13,
          0.54,
          0.54,
          6.7,
          7.63,
          5.44,
          0.94,
          2.303280592,
          10.04,
          3.72,
          2,
          1.63,
          1.07,
          1.8,
          2.28,
          22.51,
          2.68,
          6.5,
          0.76,
          20,
          7.7,
          16.41,
          7.5,
          null,
          0.26,
          1.160610542,
          10,
          null,
          null,
          8.94,
          2.4,
          2.6,
          9.78,
          6.31,
          4,
          11.23,
          4,
          20,
          10.8,
          34.07,
          41.3,
          9.775497398,
          2.8,
          3.13,
          6,
          2.4,
          1,
          30,
          4.3,
          2,
          1.7,
          5.1,
          0.72,
          5,
          2.7,
          6,
          0.61,
          0.75,
          7.23,
          9.2,
          7.8,
          1,
          2.45,
          14,
          3.86,
          2.3,
          1.7,
          2.26,
          2,
          4,
          28.33,
          4.17,
          11.6,
          0.83,
          24,
          8,
          18.75,
          8,
          41,
          0.58,
          null,
          24,
          7,
          16.7,
          11.04,
          2.9,
          3,
          12.5,
          10,
          6.4,
          12.5,
          6.5,
          21.6,
          14,
          36.8,
          52,
          12.10872903,
          3.1,
          4.148323066,
          8,
          3,
          1.11,
          32,
          5,
          2.2,
          1.9,
          5.5,
          1.2,
          5.6,
          2.9,
          11.5,
          0.7,
          1.1,
          8,
          10.8703,
          9,
          1.3,
          2.672,
          28,
          4.2248,
          2.5,
          1.9,
          3.33,
          2.2,
          4.5,
          34.95,
          4.3,
          12,
          1.3,
          28.43,
          7,
          20.1612,
          9.8,
          43.16400446,
          0.9,
          1.25,
          33.97,
          null,
          17.46,
          18.13,
          3.2,
          3.5,
          13.01354333,
          11.5,
          8.4,
          14,
          7,
          25.6,
          14,
          39.1,
          46.1074826,
          14.61288055,
          6.5,
          4.5,
          11.5,
          3.725034916,
          1.219999945,
          34.74,
          null,
          3,
          2.1,
          5.975296308,
          1.679961015,
          6.106695024,
          5,
          13.94318219,
          0.8,
          2.9,
          8.616714489,
          12.44922872,
          10.6,
          1.490144366,
          2.893990621,
          32.1,
          4.58961763,
          2.6,
          2.3,
          4.3506,
          2.8,
          5,
          35.42,
          4.8491,
          12.9414,
          1.4077,
          32.8,
          8.023854277,
          21.5724,
          10.8,
          47.076,
          1.3,
          1.3767,
          41,
          null,
          21,
          20.78178258,
          3.95,
          4,
          14.6896,
          13.4682,
          12,
          15.22802676,
          8.267232892,
          26.4,
          null,
          41.4416,
          55.41605319,
          17.1216113,
          8.9,
          4.9,
          15,
          9.1,
          1.264218111,
          37.5,
          null,
          3.5,
          2.3,
          6.5,
          2.2,
          6.6,
          8.4,
          16.4,
          0.9,
          4.6,
          9.2,
          14,
          12.3,
          1.6,
          3.1,
          39,
          5,
          3.2,
          3,
          5.05,
          3.5,
          6.2,
          40.11682514,
          5.4,
          13.9,
          1.7,
          38,
          9,
          23,
          13.1,
          50.4,
          1.7,
          1.5,
          46.5,
          14.1,
          22.7,
          24.7,
          4.4,
          4.5,
          16.2,
          15.4,
          15.5,
          16.5,
          9.5,
          29.4,
          16.5,
          43.8,
          56,
          19.57576513,
          10.2,
          6,
          18.5,
          9.4,
          1.38,
          40.26,
          16.21487223,
          4.03,
          2.5,
          6.98,
          3,
          7.11,
          14.6,
          18.86,
          0.99,
          7.7,
          20,
          16.5,
          18.9,
          1.72,
          3.32,
          43.4,
          11,
          5.41,
          3.7,
          5.83,
          7,
          10.7,
          44.80327537,
          5.94,
          14.84,
          1.95,
          42.68,
          10.6,
          24.41,
          17.7,
          54.26,
          2.1,
          1.63,
          49,
          15.9,
          24.64,
          27.1,
          4.86,
          5.7,
          17.71,
          19,
          16.3,
          25,
          10.71,
          33.89460391,
          17.76,
          46.16,
          56.8,
          22.38805971,
          12.4,
          6.787702956,
          27.5,
          11.38764617,
          4.866224464,
          43.01962636,
          20.68014766,
          4.563264352,
          2.700000001,
          7.459161386,
          3.799999507,
          7.615974662,
          21,
          21.31999999,
          1.083733116,
          11.6,
          23.5,
          17.1198205,
          23.47812844,
          4.7,
          3.540706917,
          45.62280061,
          16.0717077,
          5.903867603,
          4.17397219,
          9.298148347,
          10.33692498,
          15.19912669,
          50.13931848,
          9,
          22.30701479,
          2.22016535,
          47.44255029,
          18,
          25.8222488,
          21.69026413,
          58.11869757,
          2.5,
          1.76,
          51.91911572,
          17.92978723,
          26.61492855,
          30.38270066,
          5.355144064,
          7.12,
          19.22109963,
          21,
          16.36,
          38.2,
          11.92243143,
          35.9,
          19.01607978,
          48.51983599,
          57.08,
          null,
          null,
          null,
          null,
          null,
          null,
          null,
          null,
          null,
          null,
          null,
          null,
          null,
          null,
          null,
          null,
          null,
          null,
          null,
          null,
          null,
          null,
          null,
          null,
          null,
          null,
          null,
          null,
          null,
          null,
          null,
          null,
          null,
          null,
          null,
          null,
          null,
          null,
          null,
          null,
          null,
          null,
          null,
          null,
          null,
          null,
          null,
          null,
          null,
          null,
          null,
          null,
          null,
          null,
          null
         ],
         "yaxis": "y"
        },
        {
         "hovertemplate": "Series Name=Mobile cellular subscriptions (per 100 people)<br>Year=%{x}<br>Count=%{y}<extra></extra>",
         "legendgroup": "Mobile cellular subscriptions (per 100 people)",
         "line": {
          "color": "#EF553B",
          "dash": "solid"
         },
         "marker": {
          "symbol": "circle"
         },
         "mode": "lines",
         "name": "Mobile cellular subscriptions (per 100 people)",
         "showlegend": true,
         "type": "scattergl",
         "x": [
          "1995",
          "1995",
          "1995",
          "1995",
          "1995",
          "1995",
          "1995",
          "1995",
          "1995",
          "1995",
          "1995",
          "1995",
          "1995",
          "1995",
          "1995",
          "1995",
          "1995",
          "1995",
          "1995",
          "1995",
          "1995",
          "1995",
          "1995",
          "1995",
          "1995",
          "1995",
          "1995",
          "1995",
          "1995",
          "1995",
          "1995",
          "1995",
          "1995",
          "1995",
          "1995",
          "1995",
          "1995",
          "1995",
          "1995",
          "1995",
          "1995",
          "1995",
          "1995",
          "1995",
          "1995",
          "1995",
          "1995",
          "1995",
          "1995",
          "1995",
          "1995",
          "1995",
          "1995",
          "1995",
          "1995",
          "1996",
          "1996",
          "1996",
          "1996",
          "1996",
          "1996",
          "1996",
          "1996",
          "1996",
          "1996",
          "1996",
          "1996",
          "1996",
          "1996",
          "1996",
          "1996",
          "1996",
          "1996",
          "1996",
          "1996",
          "1996",
          "1996",
          "1996",
          "1996",
          "1996",
          "1996",
          "1996",
          "1996",
          "1996",
          "1996",
          "1996",
          "1996",
          "1996",
          "1996",
          "1996",
          "1996",
          "1996",
          "1996",
          "1996",
          "1996",
          "1996",
          "1996",
          "1996",
          "1996",
          "1996",
          "1996",
          "1996",
          "1996",
          "1996",
          "1996",
          "1996",
          "1996",
          "1996",
          "1996",
          "1996",
          "1997",
          "1997",
          "1997",
          "1997",
          "1997",
          "1997",
          "1997",
          "1997",
          "1997",
          "1997",
          "1997",
          "1997",
          "1997",
          "1997",
          "1997",
          "1997",
          "1997",
          "1997",
          "1997",
          "1997",
          "1997",
          "1997",
          "1997",
          "1997",
          "1997",
          "1997",
          "1997",
          "1997",
          "1997",
          "1997",
          "1997",
          "1997",
          "1997",
          "1997",
          "1997",
          "1997",
          "1997",
          "1997",
          "1997",
          "1997",
          "1997",
          "1997",
          "1997",
          "1997",
          "1997",
          "1997",
          "1997",
          "1997",
          "1997",
          "1997",
          "1997",
          "1997",
          "1997",
          "1997",
          "1997",
          "1998",
          "1998",
          "1998",
          "1998",
          "1998",
          "1998",
          "1998",
          "1998",
          "1998",
          "1998",
          "1998",
          "1998",
          "1998",
          "1998",
          "1998",
          "1998",
          "1998",
          "1998",
          "1998",
          "1998",
          "1998",
          "1998",
          "1998",
          "1998",
          "1998",
          "1998",
          "1998",
          "1998",
          "1998",
          "1998",
          "1998",
          "1998",
          "1998",
          "1998",
          "1998",
          "1998",
          "1998",
          "1998",
          "1998",
          "1998",
          "1998",
          "1998",
          "1998",
          "1998",
          "1998",
          "1998",
          "1998",
          "1998",
          "1998",
          "1998",
          "1998",
          "1998",
          "1998",
          "1998",
          "1998",
          "1999",
          "1999",
          "1999",
          "1999",
          "1999",
          "1999",
          "1999",
          "1999",
          "1999",
          "1999",
          "1999",
          "1999",
          "1999",
          "1999",
          "1999",
          "1999",
          "1999",
          "1999",
          "1999",
          "1999",
          "1999",
          "1999",
          "1999",
          "1999",
          "1999",
          "1999",
          "1999",
          "1999",
          "1999",
          "1999",
          "1999",
          "1999",
          "1999",
          "1999",
          "1999",
          "1999",
          "1999",
          "1999",
          "1999",
          "1999",
          "1999",
          "1999",
          "1999",
          "1999",
          "1999",
          "1999",
          "1999",
          "1999",
          "1999",
          "1999",
          "1999",
          "1999",
          "1999",
          "1999",
          "1999",
          "2000",
          "2000",
          "2000",
          "2000",
          "2000",
          "2000",
          "2000",
          "2000",
          "2000",
          "2000",
          "2000",
          "2000",
          "2000",
          "2000",
          "2000",
          "2000",
          "2000",
          "2000",
          "2000",
          "2000",
          "2000",
          "2000",
          "2000",
          "2000",
          "2000",
          "2000",
          "2000",
          "2000",
          "2000",
          "2000",
          "2000",
          "2000",
          "2000",
          "2000",
          "2000",
          "2000",
          "2000",
          "2000",
          "2000",
          "2000",
          "2000",
          "2000",
          "2000",
          "2000",
          "2000",
          "2000",
          "2000",
          "2000",
          "2000",
          "2000",
          "2000",
          "2000",
          "2000",
          "2000",
          "2000",
          "2001",
          "2001",
          "2001",
          "2001",
          "2001",
          "2001",
          "2001",
          "2001",
          "2001",
          "2001",
          "2001",
          "2001",
          "2001",
          "2001",
          "2001",
          "2001",
          "2001",
          "2001",
          "2001",
          "2001",
          "2001",
          "2001",
          "2001",
          "2001",
          "2001",
          "2001",
          "2001",
          "2001",
          "2001",
          "2001",
          "2001",
          "2001",
          "2001",
          "2001",
          "2001",
          "2001",
          "2001",
          "2001",
          "2001",
          "2001",
          "2001",
          "2001",
          "2001",
          "2001",
          "2001",
          "2001",
          "2001",
          "2001",
          "2001",
          "2001",
          "2001",
          "2001",
          "2001",
          "2001",
          "2001",
          "2002",
          "2002",
          "2002",
          "2002",
          "2002",
          "2002",
          "2002",
          "2002",
          "2002",
          "2002",
          "2002",
          "2002",
          "2002",
          "2002",
          "2002",
          "2002",
          "2002",
          "2002",
          "2002",
          "2002",
          "2002",
          "2002",
          "2002",
          "2002",
          "2002",
          "2002",
          "2002",
          "2002",
          "2002",
          "2002",
          "2002",
          "2002",
          "2002",
          "2002",
          "2002",
          "2002",
          "2002",
          "2002",
          "2002",
          "2002",
          "2002",
          "2002",
          "2002",
          "2002",
          "2002",
          "2002",
          "2002",
          "2002",
          "2002",
          "2002",
          "2002",
          "2002",
          "2002",
          "2002",
          "2002",
          "2003",
          "2003",
          "2003",
          "2003",
          "2003",
          "2003",
          "2003",
          "2003",
          "2003",
          "2003",
          "2003",
          "2003",
          "2003",
          "2003",
          "2003",
          "2003",
          "2003",
          "2003",
          "2003",
          "2003",
          "2003",
          "2003",
          "2003",
          "2003",
          "2003",
          "2003",
          "2003",
          "2003",
          "2003",
          "2003",
          "2003",
          "2003",
          "2003",
          "2003",
          "2003",
          "2003",
          "2003",
          "2003",
          "2003",
          "2003",
          "2003",
          "2003",
          "2003",
          "2003",
          "2003",
          "2003",
          "2003",
          "2003",
          "2003",
          "2003",
          "2003",
          "2003",
          "2003",
          "2003",
          "2003",
          "2004",
          "2004",
          "2004",
          "2004",
          "2004",
          "2004",
          "2004",
          "2004",
          "2004",
          "2004",
          "2004",
          "2004",
          "2004",
          "2004",
          "2004",
          "2004",
          "2004",
          "2004",
          "2004",
          "2004",
          "2004",
          "2004",
          "2004",
          "2004",
          "2004",
          "2004",
          "2004",
          "2004",
          "2004",
          "2004",
          "2004",
          "2004",
          "2004",
          "2004",
          "2004",
          "2004",
          "2004",
          "2004",
          "2004",
          "2004",
          "2004",
          "2004",
          "2004",
          "2004",
          "2004",
          "2004",
          "2004",
          "2004",
          "2004",
          "2004",
          "2004",
          "2004",
          "2004",
          "2004",
          "2004",
          "2005",
          "2005",
          "2005",
          "2005",
          "2005",
          "2005",
          "2005",
          "2005",
          "2005",
          "2005",
          "2005",
          "2005",
          "2005",
          "2005",
          "2005",
          "2005",
          "2005",
          "2005",
          "2005",
          "2005",
          "2005",
          "2005",
          "2005",
          "2005",
          "2005",
          "2005",
          "2005",
          "2005",
          "2005",
          "2005",
          "2005",
          "2005",
          "2005",
          "2005",
          "2005",
          "2005",
          "2005",
          "2005",
          "2005",
          "2005",
          "2005",
          "2005",
          "2005",
          "2005",
          "2005",
          "2005",
          "2005",
          "2005",
          "2005",
          "2005",
          "2005",
          "2005",
          "2005",
          "2005",
          "2005",
          "2006",
          "2006",
          "2006",
          "2006",
          "2006",
          "2006",
          "2006",
          "2006",
          "2006",
          "2006",
          "2006",
          "2006",
          "2006",
          "2006",
          "2006",
          "2006",
          "2006",
          "2006",
          "2006",
          "2006",
          "2006",
          "2006",
          "2006",
          "2006",
          "2006",
          "2006",
          "2006",
          "2006",
          "2006",
          "2006",
          "2006",
          "2006",
          "2006",
          "2006",
          "2006",
          "2006",
          "2006",
          "2006",
          "2006",
          "2006",
          "2006",
          "2006",
          "2006",
          "2006",
          "2006",
          "2006",
          "2006",
          "2006",
          "2006",
          "2006",
          "2006",
          "2006",
          "2006",
          "2006",
          "2006",
          "2007",
          "2007",
          "2007",
          "2007",
          "2007",
          "2007",
          "2007",
          "2007",
          "2007",
          "2007",
          "2007",
          "2007",
          "2007",
          "2007",
          "2007",
          "2007",
          "2007",
          "2007",
          "2007",
          "2007",
          "2007",
          "2007",
          "2007",
          "2007",
          "2007",
          "2007",
          "2007",
          "2007",
          "2007",
          "2007",
          "2007",
          "2007",
          "2007",
          "2007",
          "2007",
          "2007",
          "2007",
          "2007",
          "2007",
          "2007",
          "2007",
          "2007",
          "2007",
          "2007",
          "2007",
          "2007",
          "2007",
          "2007",
          "2007",
          "2007",
          "2007",
          "2007",
          "2007",
          "2007",
          "2007",
          "2008",
          "2008",
          "2008",
          "2008",
          "2008",
          "2008",
          "2008",
          "2008",
          "2008",
          "2008",
          "2008",
          "2008",
          "2008",
          "2008",
          "2008",
          "2008",
          "2008",
          "2008",
          "2008",
          "2008",
          "2008",
          "2008",
          "2008",
          "2008",
          "2008",
          "2008",
          "2008",
          "2008",
          "2008",
          "2008",
          "2008",
          "2008",
          "2008",
          "2008",
          "2008",
          "2008",
          "2008",
          "2008",
          "2008",
          "2008",
          "2008",
          "2008",
          "2008",
          "2008",
          "2008",
          "2008",
          "2008",
          "2008",
          "2008",
          "2008",
          "2008",
          "2008",
          "2008",
          "2008",
          "2008",
          "2009",
          "2009",
          "2009",
          "2009",
          "2009",
          "2009",
          "2009",
          "2009",
          "2009",
          "2009",
          "2009",
          "2009",
          "2009",
          "2009",
          "2009",
          "2009",
          "2009",
          "2009",
          "2009",
          "2009",
          "2009",
          "2009",
          "2009",
          "2009",
          "2009",
          "2009",
          "2009",
          "2009",
          "2009",
          "2009",
          "2009",
          "2009",
          "2009",
          "2009",
          "2009",
          "2009",
          "2009",
          "2009",
          "2009",
          "2009",
          "2009",
          "2009",
          "2009",
          "2009",
          "2009",
          "2009",
          "2009",
          "2009",
          "2009",
          "2009",
          "2009",
          "2009",
          "2009",
          "2009",
          "2009",
          "2010",
          "2010",
          "2010",
          "2010",
          "2010",
          "2010",
          "2010",
          "2010",
          "2010",
          "2010",
          "2010",
          "2010",
          "2010",
          "2010",
          "2010",
          "2010",
          "2010",
          "2010",
          "2010",
          "2010",
          "2010",
          "2010",
          "2010",
          "2010",
          "2010",
          "2010",
          "2010",
          "2010",
          "2010",
          "2010",
          "2010",
          "2010",
          "2010",
          "2010",
          "2010",
          "2010",
          "2010",
          "2010",
          "2010",
          "2010",
          "2010",
          "2010",
          "2010",
          "2010",
          "2010",
          "2010",
          "2010",
          "2010",
          "2010",
          "2010",
          "2010",
          "2010",
          "2010",
          "2010",
          "2010",
          "2011",
          "2011",
          "2011",
          "2011",
          "2011",
          "2011",
          "2011",
          "2011",
          "2011",
          "2011",
          "2011",
          "2011",
          "2011",
          "2011",
          "2011",
          "2011",
          "2011",
          "2011",
          "2011",
          "2011",
          "2011",
          "2011",
          "2011",
          "2011",
          "2011",
          "2011",
          "2011",
          "2011",
          "2011",
          "2011",
          "2011",
          "2011",
          "2011",
          "2011",
          "2011",
          "2011",
          "2011",
          "2011",
          "2011",
          "2011",
          "2011",
          "2011",
          "2011",
          "2011",
          "2011",
          "2011",
          "2011",
          "2011",
          "2011",
          "2011",
          "2011",
          "2011",
          "2011",
          "2011",
          "2011",
          "2012",
          "2012",
          "2012",
          "2012",
          "2012",
          "2012",
          "2012",
          "2012",
          "2012",
          "2012",
          "2012",
          "2012",
          "2012",
          "2012",
          "2012",
          "2012",
          "2012",
          "2012",
          "2012",
          "2012",
          "2012",
          "2012",
          "2012",
          "2012",
          "2012",
          "2012",
          "2012",
          "2012",
          "2012",
          "2012",
          "2012",
          "2012",
          "2012",
          "2012",
          "2012",
          "2012",
          "2012",
          "2012",
          "2012",
          "2012",
          "2012",
          "2012",
          "2012",
          "2012",
          "2012",
          "2012",
          "2012",
          "2012",
          "2012",
          "2012",
          "2012",
          "2012",
          "2012",
          "2012",
          "2012",
          "2013",
          "2013",
          "2013",
          "2013",
          "2013",
          "2013",
          "2013",
          "2013",
          "2013",
          "2013",
          "2013",
          "2013",
          "2013",
          "2013",
          "2013",
          "2013",
          "2013",
          "2013",
          "2013",
          "2013",
          "2013",
          "2013",
          "2013",
          "2013",
          "2013",
          "2013",
          "2013",
          "2013",
          "2013",
          "2013",
          "2013",
          "2013",
          "2013",
          "2013",
          "2013",
          "2013",
          "2013",
          "2013",
          "2013",
          "2013",
          "2013",
          "2013",
          "2013",
          "2013",
          "2013",
          "2013",
          "2013",
          "2013",
          "2013",
          "2013",
          "2013",
          "2013",
          "2013",
          "2013",
          "2013",
          "2014",
          "2014",
          "2014",
          "2014",
          "2014",
          "2014",
          "2014",
          "2014",
          "2014",
          "2014",
          "2014",
          "2014",
          "2014",
          "2014",
          "2014",
          "2014",
          "2014",
          "2014",
          "2014",
          "2014",
          "2014",
          "2014",
          "2014",
          "2014",
          "2014",
          "2014",
          "2014",
          "2014",
          "2014",
          "2014",
          "2014",
          "2014",
          "2014",
          "2014",
          "2014",
          "2014",
          "2014",
          "2014",
          "2014",
          "2014",
          "2014",
          "2014",
          "2014",
          "2014",
          "2014",
          "2014",
          "2014",
          "2014",
          "2014",
          "2014",
          "2014",
          "2014",
          "2014",
          "2014",
          "2014",
          "2015",
          "2015",
          "2015",
          "2015",
          "2015",
          "2015",
          "2015",
          "2015",
          "2015",
          "2015",
          "2015",
          "2015",
          "2015",
          "2015",
          "2015",
          "2015",
          "2015",
          "2015",
          "2015",
          "2015",
          "2015",
          "2015",
          "2015",
          "2015",
          "2015",
          "2015",
          "2015",
          "2015",
          "2015",
          "2015",
          "2015",
          "2015",
          "2015",
          "2015",
          "2015",
          "2015",
          "2015",
          "2015",
          "2015",
          "2015",
          "2015",
          "2015",
          "2015",
          "2015",
          "2015",
          "2015",
          "2015",
          "2015",
          "2015",
          "2015",
          "2015",
          "2015",
          "2015",
          "2015",
          "2015",
          "2016",
          "2016",
          "2016",
          "2016",
          "2016",
          "2016",
          "2016",
          "2016",
          "2016",
          "2016",
          "2016",
          "2016",
          "2016",
          "2016",
          "2016",
          "2016",
          "2016",
          "2016",
          "2016",
          "2016",
          "2016",
          "2016",
          "2016",
          "2016",
          "2016",
          "2016",
          "2016",
          "2016",
          "2016",
          "2016",
          "2016",
          "2016",
          "2016",
          "2016",
          "2016",
          "2016",
          "2016",
          "2016",
          "2016",
          "2016",
          "2016",
          "2016",
          "2016",
          "2016",
          "2016",
          "2016",
          "2016",
          "2016",
          "2016",
          "2016",
          "2016",
          "2016",
          "2016",
          "2016",
          "2016"
         ],
         "xaxis": "x",
         "y": [
          0.103046504,
          0.016472597,
          0.017541931,
          0,
          0,
          0.009082238,
          0,
          0.020101116,
          0.001343226,
          0,
          0,
          0.020232062,
          0,
          0,
          0,
          0,
          0,
          0.370206862,
          0.135304285,
          0.036990796,
          0.012121718,
          0,
          0.008312034,
          0,
          0,
          0.009663613,
          0.003833777,
          0,
          0,
          1.039713789,
          0,
          0.211580847,
          0,
          0.011989874,
          0,
          0,
          0.001400443,
          0.066283987,
          0,
          0,
          1.291434219,
          null,
          0,
          0,
          0.011688367,
          0,
          0.008423042,
          0.017497352,
          0,
          0.016001794,
          0,
          0.012045436,
          0,
          0.035457247,
          0.109979867,
          0.180689004,
          0.026485822,
          0.043828702,
          0,
          0.00506143,
          0.008912568,
          0,
          0.024446549,
          0.031967296,
          0,
          0,
          0.016696581,
          0.035745282,
          0.09259594,
          0.013365791,
          0,
          0,
          0.613332035,
          0.282499795,
          0.074354288,
          0.011736,
          0,
          0.010026174,
          0.070930875,
          0,
          0.016567447,
          0.0364413,
          0.012871175,
          0,
          1.824826146,
          0,
          0.38960681,
          0,
          0.012593755,
          0,
          0,
          0.015793657,
          1.365344085,
          0,
          0,
          2.258077502,
          null,
          0.007113041,
          0,
          0.029362791,
          0,
          0.018684872,
          0.029989053,
          0,
          0.039202273,
          0.016274814,
          0.011861838,
          0,
          0.071298377,
          0.157659667,
          0.340829925,
          0.055130843,
          0.067517635,
          0,
          0.014092851,
          0.009718077,
          0.004789708,
          0.02855312,
          0.040003118,
          0,
          0,
          0.020191297,
          null,
          0.239327506,
          0.063655345,
          0,
          0,
          0.835229451,
          0.420058457,
          0.12446167,
          0.034568886,
          0,
          0.023379915,
          0.19426324,
          0,
          0.028612824,
          0.06728014,
          0.030035121,
          0,
          3.681905532,
          0.014780106,
          0.711047806,
          0.000994962,
          0.013160263,
          0,
          0,
          0.075752533,
          2.911640081,
          0,
          0,
          4.279063857,
          null,
          0.011974633,
          0,
          0.063952305,
          0.066492152,
          0.022640286,
          0.048819276,
          0.047601602,
          0.057339703,
          0.029510232,
          0.103619882,
          0.20307261,
          0.082881819,
          0.269510477,
          0.613197841,
          0.07474762,
          0.096020877,
          0.897675617,
          0.024890963,
          0.009615874,
          0.239474846,
          0.033095248,
          0.046681951,
          0,
          0,
          0.022241527,
          0.114474547,
          0.590886388,
          0.061043034,
          0,
          0,
          0.831015195,
          0.435446069,
          0.232363487,
          0.255012846,
          0,
          0.03621275,
          0.539687716,
          0,
          0.08643535,
          0.09812919,
          0.046054694,
          0,
          5.183908342,
          0.038759156,
          1.077515349,
          0.013205028,
          0.017113417,
          0.069738333,
          0,
          0.292795434,
          6.663157489,
          0,
          0,
          7.660999509,
          null,
          0.026421438,
          0.456889998,
          0.117177126,
          0.162312718,
          0.131691862,
          0.086243954,
          0.155362034,
          0.05840281,
          0.031432074,
          0.141666208,
          0.399262164,
          0.417204648,
          0.416387264,
          0.997992876,
          0.177638088,
          0.107840809,
          5.33356832,
          0.044637705,
          0.012222561,
          1.858266846,
          0.03867561,
          0.116598212,
          0,
          0,
          0.026150001,
          0.164233601,
          1.627198864,
          0.119481688,
          0,
          0.01050517,
          0.743444999,
          0.444791613,
          0.380901054,
          0.292782939,
          0,
          0.077946501,
          0.65231182,
          0,
          0.234242473,
          0.20430944,
          0.064015263,
          0,
          8.68191259,
          0.068788234,
          1.615379272,
          0.020686548,
          0.02086256,
          0.14007359,
          0,
          0.9136395,
          20.72662602,
          0,
          0,
          11.7386481,
          null,
          0.038958687,
          1.335685412,
          0.153542046,
          0.358576107,
          0.239741703,
          0.286507645,
          1.404956282,
          0.230206295,
          0.039345073,
          0.738848579,
          0.589050841,
          0.584649115,
          1.30109029,
          1.72136386,
          0.185322296,
          0.79828865,
          12.65769422,
          0.217480374,
          0.244520537,
          4.459276806,
          0.648423286,
          0.136519203,
          0.066255872,
          0,
          0.031949396,
          2.239137305,
          2.93188436,
          0.964917528,
          0,
          0.026894684,
          9.791705935,
          0.455705803,
          0.690808845,
          0.481493068,
          0,
          0.407236044,
          1.163652036,
          0.051867794,
          0.40072885,
          0.432804993,
          0.10133933,
          0.564972795,
          15.1880406,
          0.279415996,
          4.320444184,
          0.018708231,
          0.024414713,
          0.464530312,
          0,
          2.537610482,
          32.5431845,
          0.288422726,
          1.083215895,
          18.59462788,
          null,
          0.067275601,
          3.102334742,
          0.324856957,
          1.027801412,
          0.522799789,
          0.978647519,
          2.130905435,
          0.27112703,
          0.031816868,
          2.056199148,
          0.772769907,
          1.247438441,
          8.157401485,
          2.498647536,
          0.521366177,
          1.742181889,
          18.63146249,
          0.637748952,
          0.488582584,
          6.988944394,
          2.552194314,
          0.296972634,
          0.25519327,
          0,
          0.311416239,
          4.679258656,
          4.436889916,
          2.805878128,
          0,
          0.040466846,
          11.94934434,
          4.348732248,
          1.263629537,
          0.625832387,
          0,
          1.867625738,
          3.045685279,
          0.066694011,
          0.908488031,
          0.479473493,
          0.227184768,
          3.957257336,
          22.83991451,
          0.812595994,
          5.519649642,
          0.018654958,
          0.211468606,
          0.742008878,
          0,
          2.982582079,
          45.23571702,
          0.626096017,
          1.117059269,
          23.70080761,
          null,
          0.29668392,
          5.117416802,
          0.789674329,
          1.902959101,
          1.130100554,
          1.169642903,
          2.494700186,
          0.311040075,
          0.408868633,
          4.157181333,
          0.950809491,
          4.032357658,
          16.44227749,
          3.585293899,
          0.940444726,
          2.950472734,
          18.36751842,
          0.902809026,
          0.738874924,
          9.354227469,
          4.18010464,
          0.334461655,
          0.381697962,
          0,
          1.130925646,
          6.754536548,
          6.159273168,
          5.803420028,
          0,
          0.072008853,
          21.72917519,
          7.653059272,
          1.954760936,
          1.003476993,
          0,
          3.597282273,
          7.316571262,
          0.162830754,
          0.974006438,
          0.721460565,
          0.422451786,
          8.592317244,
          28.9858312,
          1.318635599,
          7.659693112,
          0.48692184,
          1.214203412,
          0.916726444,
          1.370744979,
          5.326721238,
          54.14654223,
          1.491192948,
          1.277804385,
          29.66584635,
          null,
          0.532659744,
          6.283595288,
          1.694829293,
          3.22303878,
          1.516028656,
          1.309049061,
          2.680018119,
          1.382262358,
          2.014953643,
          6.580539155,
          1.310765939,
          5.890825052,
          21.14761119,
          4.968204083,
          2.269621281,
          3.08093958,
          24.28121327,
          1.880815092,
          0.881016032,
          11.42376199,
          6.253165411,
          1.04448569,
          0.698081479,
          0.350575206,
          2.444905248,
          9.811447759,
          7.573690548,
          7.299244396,
          0,
          0.071293566,
          22.79947105,
          11.07116691,
          3.918536618,
          1.211353347,
          0.093711482,
          4.69188758,
          6.633286935,
          1.512376521,
          1.644891137,
          1.103986285,
          2.203465197,
          11.83389774,
          38.40059593,
          2.192657947,
          11.28946209,
          0.672145676,
          2.37606151,
          1.432364759,
          3.268115696,
          7.330495473,
          58.45424969,
          2.402285029,
          2.488272151,
          35.972583,
          null,
          1.438819883,
          7.813009856,
          3.530932149,
          4.632345279,
          2.892006194,
          2.212121526,
          2.869470879,
          4.384169991,
          3.046014687,
          8.349882145,
          2.342044756,
          19.47260184,
          24.87540363,
          7.403683227,
          4.63174063,
          5.797473518,
          28.18941102,
          3.037679629,
          1.338877194,
          13.89003267,
          8.661224693,
          1.540992322,
          1.272630052,
          1.431185075,
          3.792769423,
          11.12402678,
          9.766100444,
          10.56344638,
          0.428676577,
          0.209993373,
          36.32676997,
          12.57243519,
          8.135148478,
          1.651452655,
          2.836587237,
          7.309274576,
          10.26206811,
          2.963283483,
          1.879643651,
          1.767311574,
          3.51562473,
          17.0974578,
          45.31863157,
          3.463995267,
          14.28104347,
          1.356695235,
          6.725926062,
          1.483308604,
          5.134511608,
          10.22390743,
          63.40334224,
          null,
          6.060631772,
          43.82265902,
          null,
          2.795882758,
          13.24493632,
          5.142308625,
          6.161062986,
          4.195756068,
          4.155423212,
          3.354159171,
          14.59120666,
          4.50288335,
          10.82720009,
          9.07935355,
          37.55460363,
          31.27322579,
          12.02493278,
          9.738161173,
          7.28722342,
          30.05546952,
          4.720290206,
          1.969012632,
          17.07319111,
          12.41890525,
          2.524680647,
          2.096977626,
          2.584009868,
          5.082723491,
          15.75537552,
          13.5071853,
          16.0524014,
          0.833074787,
          0.539116292,
          53.40403707,
          17.22725782,
          13.44255251,
          1.973615991,
          6.952089848,
          12.88773918,
          12.97020943,
          4.893286594,
          2.789819618,
          3.258578544,
          6.381119979,
          23.69917779,
          54.16012507,
          7.158096552,
          22.14362322,
          2.456446921,
          13.31581571,
          2.36469608,
          7.730815251,
          15.35030352,
          67.52015064,
          null,
          5.905322562,
          70.40479553,
          null,
          4.75898144,
          18.10541334,
          7.634377406,
          7.827044226,
          4.578959089,
          8.278615333,
          5.091109468,
          40.22671305,
          5.672656567,
          18.98863599,
          35.74971624,
          56.51703373,
          41.13733424,
          17.75584378,
          17.83989624,
          12.50317546,
          43.41214719,
          7.354840819,
          2.486764507,
          22.58745902,
          16.84911141,
          2.728105589,
          4.500299416,
          5.981418464,
          7.942801654,
          25.16003031,
          23.01735374,
          19.30759738,
          1.23129209,
          1.107028759,
          63.55598776,
          27.27777463,
          23.72559884,
          null,
          10.83048396,
          19.96957736,
          18.44519698,
          8.272298053,
          5.555513652,
          4.660239481,
          12.27489738,
          32.74292687,
          63.49227878,
          10.83653425,
          29.65740203,
          3.530777893,
          22.55327253,
          3.252279849,
          11.60157677,
          25.75017105,
          79.7415259,
          null,
          6.33081064,
          81.0762872,
          null,
          11.89555131,
          22.35630041,
          14.04274015,
          12.45197504,
          6.761102482,
          14.11800015,
          6.673415953,
          60.85091077,
          5.690729661,
          24.66217297,
          69.06848267,
          72.23298695,
          52.6556339,
          23.17776271,
          28.01098233,
          23.56334604,
          60.13830503,
          13.05253397,
          3.241953471,
          31.46741973,
          23.75158108,
          8.278756443,
          8.587287923,
          9.815151975,
          11.52690544,
          34.25590964,
          41.60500652,
          23.45149761,
          1.619011387,
          1.5023463,
          80.76618018,
          52.33214725,
          33.75729429,
          19.90650512,
          19.95658668,
          30.06283272,
          24.66811263,
          15.9839014,
          11.44808924,
          7.662757357,
          19.8881407,
          42.46099968,
          76.11805478,
          13.89078923,
          38.46157543,
          6.339238428,
          27.44502851,
          6.397339361,
          18.42156803,
          30.49821024,
          86.69867839,
          14.3278776,
          6.733363626,
          85.27748184,
          null,
          20.3550956,
          33.48085468,
          20.06824321,
          20.40031837,
          13.65261655,
          21.79280605,
          9.620397232,
          78.53288666,
          8.70663211,
          40.54135052,
          77.82628758,
          76.33512661,
          65.31204171,
          31.89438616,
          36.98368954,
          40.40173435,
          76.83593118,
          20.62907931,
          5.572453585,
          57.29277356,
          31.44110653,
          13.61972672,
          14.50506716,
          14.12941193,
          16.89524742,
          46.61451448,
          57.22349848,
          27.35458379,
          2.018352101,
          2.36564857,
          87.6694296,
          73.90036908,
          50.0664665,
          26.66103586,
          32.9718113,
          42.04847839,
          30.07891192,
          23.26963112,
          24.26502318,
          10.66389819,
          26.17209427,
          61.11751406,
          84.46575593,
          19.3520095,
          49.83913613,
          12.8758415,
          41.65682945,
          12.93790517,
          30.04463516,
          44.03321374,
          103.9754399,
          18.23526126,
          6.859761851,
          89.52108369,
          null,
          28.95430467,
          46.07241867,
          30.709868,
          25.87965477,
          26.92003559,
          28.41083233,
          12.94364591,
          75.6646235,
          13.93013208,
          54.69017202,
          125.5633801,
          82.7810914,
          73.70564595,
          37.679212,
          42.84657348,
          54.46885832,
          96.02329234,
          25.3304628,
          10.31456575,
          59.83377049,
          39.81367836,
          20.24357708,
          20.06204202,
          18.40512718,
          15.63752578,
          73.79715284,
          70.87826244,
          29.5486008,
          2.539273454,
          4.775809745,
          95.44779828,
          80.62692375,
          63.77348397,
          32.936074,
          36.13019495,
          48.62445283,
          33.21820036,
          28.39406088,
          30.65911646,
          17.05611988,
          32.89656779,
          62.06488083,
          88.58099786,
          25.55872869,
          76.11744914,
          16.9836557,
          47.9584083,
          23.07054695,
          46.65723851,
          54.83107061,
          122.1811277,
          20.56306639,
          6.833066584,
          91.24860878,
          null,
          36.11230146,
          56.61109776,
          40.03113033,
          35.59849145,
          28.55294653,
          34.36001051,
          30.96458524,
          89.95836607,
          15.66875338,
          72.09666743,
          159.8519698,
          93.20555476,
          80.92564452,
          44.41018352,
          48.10120904,
          74.39604921,
          120.0102471,
          36.72938024,
          18.1747416,
          76.26543014,
          41.8760103,
          22.51148929,
          24.53167583,
          24.19595919,
          19.00647586,
          90.44274713,
          82.20152116,
          57.35549085,
          3.227135845,
          7.869542323,
          103.4556766,
          87.9633354,
          71.86671124,
          36.7781157,
          42.69221945,
          61.03491308,
          49.15315236,
          39.69964553,
          36.5839289,
          20.763471,
          53.19893999,
          76.9112489,
          96.7692919,
          30.14184555,
          89.49525165,
          23.0821922,
          54.66094952,
          32.74752019,
          57.63965258,
          64.42744115,
          128.9218051,
          34.77065968,
          6.726736849,
          97.90028646,
          14.44932189,
          41.544029,
          60.83084412,
          46.65843734,
          41.26668606,
          37.74438345,
          41.21205404,
          58.88210564,
          88.44487548,
          19.85681673,
          90.50319174,
          180.4452926,
          104.5370929,
          101.074253,
          53.09439045,
          59.82618856,
          79.40049868,
          145.9838697,
          48.02719397,
          20.06827414,
          80.81218046,
          49.56740015,
          22.37140338,
          30.34478288,
          30.91017629,
          24.47130767,
          91.93909914,
          89.44962943,
          66.8802619,
          4.077954414,
          15.80285822,
          148.6936289,
          80.76025697,
          85.27494343,
          43.54770359,
          45.10659833,
          66.8146089,
          60.72157105,
          49.52909493,
          40.04243013,
          25.56405677,
          75.06504419,
          89.52144655,
          104.7930618,
          31.95650185,
          98.95730464,
          28.72476707,
          57.96066304,
          39.89652123,
          62.8015526,
          70.16017194,
          137.903463,
          36.43343754,
          18.16731553,
          123.1976544,
          17.33918627,
          68.77724454,
          63.23757857,
          55.36980391,
          41.64413476,
          47.50472743,
          59.88466455,
          68.86878087,
          94.31443964,
          22.80161957,
          105.0794228,
          163.847587,
          115.2010779,
          114.019338,
          59.68015681,
          61.40627578,
          83.65431589,
          153.7856491,
          60.60765215,
          22.81446021,
          86.02531144,
          60.40682443,
          25.26102109,
          35.36487879,
          39.51356301,
          30.58009217,
          98.75682808,
          91.22862939,
          68.05374469,
          4.979397878,
          22.37451927,
          156.6686186,
          85.20375721,
          100.9932997,
          48.76925037,
          63.0692167,
          71.17433333,
          75.30007872,
          56.79362644,
          39.37666576,
          29.2138369,
          98.37926527,
          106.0413193,
          119.8654035,
          34.93571402,
          95.01813098,
          31.44796172,
          66.79811805,
          49.66704344,
          64.95124882,
          83.56861759,
          147.8032034,
          36.96439058,
          22.55978195,
          130.557982,
          21.22255382,
          74.36035887,
          65.39478548,
          56.96423843,
          49.86113051,
          45.00206351,
          74.77514723,
          91.90938245,
          97.52089467,
          24.71558258,
          119.9164442,
          155.7690861,
          118.1056496,
          119.9722162,
          65.99011259,
          61.87329711,
          93.25782193,
          160.6410528,
          66.37728295,
          24.96258806,
          100.1124481,
          70.3904685,
          29.46657548,
          35.56437683,
          47.28425115,
          41.81656407,
          104.7695043,
          95.44605196,
          67.47338887,
          5.602975462,
          27.25468539,
          164.2167217,
          99.9766937,
          108.1911482,
          63.31503903,
          55.15072568,
          71.76404552,
          86.30152835,
          59.40217188,
          36.90806976,
          32.33015944,
          129.0669372,
          102.5274559,
          123.2398186,
          48.00421557,
          118.4342133,
          39.2922097,
          73.29196161,
          56.80079399,
          64.93966102,
          92.92798275,
          147.342683,
          65.65907347,
          49.38267841,
          145.6440213,
          25.25835962,
          72.85231291,
          71.46778668,
          55.71793149,
          62.53490181,
          48.08192773,
          71.50463179,
          96.3498668,
          100.7877205,
          27.96586676,
          121.507893,
          165.0449946,
          115.6035799,
          128.5252097,
          70.87121206,
          63.4792082,
          81.70596565,
          167.2975939,
          71.7259882,
          30.46201036,
          121.7897017,
          75.6851331,
          24.53960893,
          39.75097997,
          50.90120382,
          53.49321638,
          108.1495742,
          106.2476093,
          66.38811096,
          6.38599695,
          31.59388039,
          171.375053,
          119.6304887,
          114.8194789,
          72.09875075,
          63.48369055,
          73.84324808,
          101.9679515,
          73.35344914,
          41.20948014,
          33.46880863,
          149.0691312,
          94.19928487,
          132.2498241,
          69.81699867,
          113.7562458,
          44.43748576,
          77.84154715,
          64.02469114,
          64.93769014,
          98.84217748,
          162.1932137,
          76.65603826,
          50.89929334,
          149.1935175,
          24.50094636,
          72.19898961,
          72.31972132,
          62.77433234,
          64.57824151,
          52.42923963,
          67.33816426,
          80.81642131,
          108.4380562,
          32.38686559,
          114.3059858,
          161.1206099,
          128.4857675,
          131.713056,
          75.74001715,
          60.84389581,
          85.64432269,
          169.0030004,
          80.64303328,
          46.2209572,
          127.152258,
          71.84542948,
          20.44520581,
          40.17306812,
          54.80106693,
          52.98907151,
          111.6643425,
          119.3109704,
          66.71937471,
          7.04995255,
          42.76402881,
          168.9175245,
          131.2632323,
          129.7359971,
          87.17366364,
          69.2749664,
          80.67820274,
          105.5240374,
          81.09358204,
          46.01535193,
          35.33642215,
          139.6118556,
          89.32065985,
          140.5732857,
          74.23884829,
          102.1012636,
          46.49586525,
          82.18573909,
          70.48290534,
          65.09485603,
          99.94675778,
          158.1201869,
          89.52968035,
          52.46922266,
          159.2728377,
          23.85552521,
          70.52824566,
          73.20000716,
          75.85579688,
          64.94844297,
          50.37278848,
          74.47177776,
          84.78880444,
          113.0310943,
          34.67984501,
          110.9915544,
          157.0029191,
          129.9314977,
          126.8723216,
          null,
          null,
          null,
          null,
          null,
          null,
          null,
          null,
          null,
          null,
          null,
          null,
          null,
          null,
          null,
          null,
          null,
          null,
          null,
          null,
          null,
          null,
          null,
          null,
          null,
          null,
          null,
          null,
          null,
          null,
          null,
          null,
          null,
          null,
          null,
          null,
          null,
          null,
          null,
          null,
          null,
          null,
          null,
          null,
          null,
          null,
          null,
          null,
          null,
          null,
          null,
          null,
          null,
          null,
          null
         ],
         "yaxis": "y"
        }
       ],
       "layout": {
        "height": 500,
        "legend": {
         "title": {
          "text": "Series Name"
         },
         "tracegroupgap": 0
        },
        "template": {
         "data": {
          "bar": [
           {
            "error_x": {
             "color": "#2a3f5f"
            },
            "error_y": {
             "color": "#2a3f5f"
            },
            "marker": {
             "line": {
              "color": "#E5ECF6",
              "width": 0.5
             },
             "pattern": {
              "fillmode": "overlay",
              "size": 10,
              "solidity": 0.2
             }
            },
            "type": "bar"
           }
          ],
          "barpolar": [
           {
            "marker": {
             "line": {
              "color": "#E5ECF6",
              "width": 0.5
             },
             "pattern": {
              "fillmode": "overlay",
              "size": 10,
              "solidity": 0.2
             }
            },
            "type": "barpolar"
           }
          ],
          "carpet": [
           {
            "aaxis": {
             "endlinecolor": "#2a3f5f",
             "gridcolor": "white",
             "linecolor": "white",
             "minorgridcolor": "white",
             "startlinecolor": "#2a3f5f"
            },
            "baxis": {
             "endlinecolor": "#2a3f5f",
             "gridcolor": "white",
             "linecolor": "white",
             "minorgridcolor": "white",
             "startlinecolor": "#2a3f5f"
            },
            "type": "carpet"
           }
          ],
          "choropleth": [
           {
            "colorbar": {
             "outlinewidth": 0,
             "ticks": ""
            },
            "type": "choropleth"
           }
          ],
          "contour": [
           {
            "colorbar": {
             "outlinewidth": 0,
             "ticks": ""
            },
            "colorscale": [
             [
              0,
              "#0d0887"
             ],
             [
              0.1111111111111111,
              "#46039f"
             ],
             [
              0.2222222222222222,
              "#7201a8"
             ],
             [
              0.3333333333333333,
              "#9c179e"
             ],
             [
              0.4444444444444444,
              "#bd3786"
             ],
             [
              0.5555555555555556,
              "#d8576b"
             ],
             [
              0.6666666666666666,
              "#ed7953"
             ],
             [
              0.7777777777777778,
              "#fb9f3a"
             ],
             [
              0.8888888888888888,
              "#fdca26"
             ],
             [
              1,
              "#f0f921"
             ]
            ],
            "type": "contour"
           }
          ],
          "contourcarpet": [
           {
            "colorbar": {
             "outlinewidth": 0,
             "ticks": ""
            },
            "type": "contourcarpet"
           }
          ],
          "heatmap": [
           {
            "colorbar": {
             "outlinewidth": 0,
             "ticks": ""
            },
            "colorscale": [
             [
              0,
              "#0d0887"
             ],
             [
              0.1111111111111111,
              "#46039f"
             ],
             [
              0.2222222222222222,
              "#7201a8"
             ],
             [
              0.3333333333333333,
              "#9c179e"
             ],
             [
              0.4444444444444444,
              "#bd3786"
             ],
             [
              0.5555555555555556,
              "#d8576b"
             ],
             [
              0.6666666666666666,
              "#ed7953"
             ],
             [
              0.7777777777777778,
              "#fb9f3a"
             ],
             [
              0.8888888888888888,
              "#fdca26"
             ],
             [
              1,
              "#f0f921"
             ]
            ],
            "type": "heatmap"
           }
          ],
          "heatmapgl": [
           {
            "colorbar": {
             "outlinewidth": 0,
             "ticks": ""
            },
            "colorscale": [
             [
              0,
              "#0d0887"
             ],
             [
              0.1111111111111111,
              "#46039f"
             ],
             [
              0.2222222222222222,
              "#7201a8"
             ],
             [
              0.3333333333333333,
              "#9c179e"
             ],
             [
              0.4444444444444444,
              "#bd3786"
             ],
             [
              0.5555555555555556,
              "#d8576b"
             ],
             [
              0.6666666666666666,
              "#ed7953"
             ],
             [
              0.7777777777777778,
              "#fb9f3a"
             ],
             [
              0.8888888888888888,
              "#fdca26"
             ],
             [
              1,
              "#f0f921"
             ]
            ],
            "type": "heatmapgl"
           }
          ],
          "histogram": [
           {
            "marker": {
             "pattern": {
              "fillmode": "overlay",
              "size": 10,
              "solidity": 0.2
             }
            },
            "type": "histogram"
           }
          ],
          "histogram2d": [
           {
            "colorbar": {
             "outlinewidth": 0,
             "ticks": ""
            },
            "colorscale": [
             [
              0,
              "#0d0887"
             ],
             [
              0.1111111111111111,
              "#46039f"
             ],
             [
              0.2222222222222222,
              "#7201a8"
             ],
             [
              0.3333333333333333,
              "#9c179e"
             ],
             [
              0.4444444444444444,
              "#bd3786"
             ],
             [
              0.5555555555555556,
              "#d8576b"
             ],
             [
              0.6666666666666666,
              "#ed7953"
             ],
             [
              0.7777777777777778,
              "#fb9f3a"
             ],
             [
              0.8888888888888888,
              "#fdca26"
             ],
             [
              1,
              "#f0f921"
             ]
            ],
            "type": "histogram2d"
           }
          ],
          "histogram2dcontour": [
           {
            "colorbar": {
             "outlinewidth": 0,
             "ticks": ""
            },
            "colorscale": [
             [
              0,
              "#0d0887"
             ],
             [
              0.1111111111111111,
              "#46039f"
             ],
             [
              0.2222222222222222,
              "#7201a8"
             ],
             [
              0.3333333333333333,
              "#9c179e"
             ],
             [
              0.4444444444444444,
              "#bd3786"
             ],
             [
              0.5555555555555556,
              "#d8576b"
             ],
             [
              0.6666666666666666,
              "#ed7953"
             ],
             [
              0.7777777777777778,
              "#fb9f3a"
             ],
             [
              0.8888888888888888,
              "#fdca26"
             ],
             [
              1,
              "#f0f921"
             ]
            ],
            "type": "histogram2dcontour"
           }
          ],
          "mesh3d": [
           {
            "colorbar": {
             "outlinewidth": 0,
             "ticks": ""
            },
            "type": "mesh3d"
           }
          ],
          "parcoords": [
           {
            "line": {
             "colorbar": {
              "outlinewidth": 0,
              "ticks": ""
             }
            },
            "type": "parcoords"
           }
          ],
          "pie": [
           {
            "automargin": true,
            "type": "pie"
           }
          ],
          "scatter": [
           {
            "fillpattern": {
             "fillmode": "overlay",
             "size": 10,
             "solidity": 0.2
            },
            "type": "scatter"
           }
          ],
          "scatter3d": [
           {
            "line": {
             "colorbar": {
              "outlinewidth": 0,
              "ticks": ""
             }
            },
            "marker": {
             "colorbar": {
              "outlinewidth": 0,
              "ticks": ""
             }
            },
            "type": "scatter3d"
           }
          ],
          "scattercarpet": [
           {
            "marker": {
             "colorbar": {
              "outlinewidth": 0,
              "ticks": ""
             }
            },
            "type": "scattercarpet"
           }
          ],
          "scattergeo": [
           {
            "marker": {
             "colorbar": {
              "outlinewidth": 0,
              "ticks": ""
             }
            },
            "type": "scattergeo"
           }
          ],
          "scattergl": [
           {
            "marker": {
             "colorbar": {
              "outlinewidth": 0,
              "ticks": ""
             }
            },
            "type": "scattergl"
           }
          ],
          "scattermapbox": [
           {
            "marker": {
             "colorbar": {
              "outlinewidth": 0,
              "ticks": ""
             }
            },
            "type": "scattermapbox"
           }
          ],
          "scatterpolar": [
           {
            "marker": {
             "colorbar": {
              "outlinewidth": 0,
              "ticks": ""
             }
            },
            "type": "scatterpolar"
           }
          ],
          "scatterpolargl": [
           {
            "marker": {
             "colorbar": {
              "outlinewidth": 0,
              "ticks": ""
             }
            },
            "type": "scatterpolargl"
           }
          ],
          "scatterternary": [
           {
            "marker": {
             "colorbar": {
              "outlinewidth": 0,
              "ticks": ""
             }
            },
            "type": "scatterternary"
           }
          ],
          "surface": [
           {
            "colorbar": {
             "outlinewidth": 0,
             "ticks": ""
            },
            "colorscale": [
             [
              0,
              "#0d0887"
             ],
             [
              0.1111111111111111,
              "#46039f"
             ],
             [
              0.2222222222222222,
              "#7201a8"
             ],
             [
              0.3333333333333333,
              "#9c179e"
             ],
             [
              0.4444444444444444,
              "#bd3786"
             ],
             [
              0.5555555555555556,
              "#d8576b"
             ],
             [
              0.6666666666666666,
              "#ed7953"
             ],
             [
              0.7777777777777778,
              "#fb9f3a"
             ],
             [
              0.8888888888888888,
              "#fdca26"
             ],
             [
              1,
              "#f0f921"
             ]
            ],
            "type": "surface"
           }
          ],
          "table": [
           {
            "cells": {
             "fill": {
              "color": "#EBF0F8"
             },
             "line": {
              "color": "white"
             }
            },
            "header": {
             "fill": {
              "color": "#C8D4E3"
             },
             "line": {
              "color": "white"
             }
            },
            "type": "table"
           }
          ]
         },
         "layout": {
          "annotationdefaults": {
           "arrowcolor": "#2a3f5f",
           "arrowhead": 0,
           "arrowwidth": 1
          },
          "autotypenumbers": "strict",
          "coloraxis": {
           "colorbar": {
            "outlinewidth": 0,
            "ticks": ""
           }
          },
          "colorscale": {
           "diverging": [
            [
             0,
             "#8e0152"
            ],
            [
             0.1,
             "#c51b7d"
            ],
            [
             0.2,
             "#de77ae"
            ],
            [
             0.3,
             "#f1b6da"
            ],
            [
             0.4,
             "#fde0ef"
            ],
            [
             0.5,
             "#f7f7f7"
            ],
            [
             0.6,
             "#e6f5d0"
            ],
            [
             0.7,
             "#b8e186"
            ],
            [
             0.8,
             "#7fbc41"
            ],
            [
             0.9,
             "#4d9221"
            ],
            [
             1,
             "#276419"
            ]
           ],
           "sequential": [
            [
             0,
             "#0d0887"
            ],
            [
             0.1111111111111111,
             "#46039f"
            ],
            [
             0.2222222222222222,
             "#7201a8"
            ],
            [
             0.3333333333333333,
             "#9c179e"
            ],
            [
             0.4444444444444444,
             "#bd3786"
            ],
            [
             0.5555555555555556,
             "#d8576b"
            ],
            [
             0.6666666666666666,
             "#ed7953"
            ],
            [
             0.7777777777777778,
             "#fb9f3a"
            ],
            [
             0.8888888888888888,
             "#fdca26"
            ],
            [
             1,
             "#f0f921"
            ]
           ],
           "sequentialminus": [
            [
             0,
             "#0d0887"
            ],
            [
             0.1111111111111111,
             "#46039f"
            ],
            [
             0.2222222222222222,
             "#7201a8"
            ],
            [
             0.3333333333333333,
             "#9c179e"
            ],
            [
             0.4444444444444444,
             "#bd3786"
            ],
            [
             0.5555555555555556,
             "#d8576b"
            ],
            [
             0.6666666666666666,
             "#ed7953"
            ],
            [
             0.7777777777777778,
             "#fb9f3a"
            ],
            [
             0.8888888888888888,
             "#fdca26"
            ],
            [
             1,
             "#f0f921"
            ]
           ]
          },
          "colorway": [
           "#636efa",
           "#EF553B",
           "#00cc96",
           "#ab63fa",
           "#FFA15A",
           "#19d3f3",
           "#FF6692",
           "#B6E880",
           "#FF97FF",
           "#FECB52"
          ],
          "font": {
           "color": "#2a3f5f"
          },
          "geo": {
           "bgcolor": "white",
           "lakecolor": "white",
           "landcolor": "#E5ECF6",
           "showlakes": true,
           "showland": true,
           "subunitcolor": "white"
          },
          "hoverlabel": {
           "align": "left"
          },
          "hovermode": "closest",
          "mapbox": {
           "style": "light"
          },
          "paper_bgcolor": "white",
          "plot_bgcolor": "#E5ECF6",
          "polar": {
           "angularaxis": {
            "gridcolor": "white",
            "linecolor": "white",
            "ticks": ""
           },
           "bgcolor": "#E5ECF6",
           "radialaxis": {
            "gridcolor": "white",
            "linecolor": "white",
            "ticks": ""
           }
          },
          "scene": {
           "xaxis": {
            "backgroundcolor": "#E5ECF6",
            "gridcolor": "white",
            "gridwidth": 2,
            "linecolor": "white",
            "showbackground": true,
            "ticks": "",
            "zerolinecolor": "white"
           },
           "yaxis": {
            "backgroundcolor": "#E5ECF6",
            "gridcolor": "white",
            "gridwidth": 2,
            "linecolor": "white",
            "showbackground": true,
            "ticks": "",
            "zerolinecolor": "white"
           },
           "zaxis": {
            "backgroundcolor": "#E5ECF6",
            "gridcolor": "white",
            "gridwidth": 2,
            "linecolor": "white",
            "showbackground": true,
            "ticks": "",
            "zerolinecolor": "white"
           }
          },
          "shapedefaults": {
           "line": {
            "color": "#2a3f5f"
           }
          },
          "ternary": {
           "aaxis": {
            "gridcolor": "white",
            "linecolor": "white",
            "ticks": ""
           },
           "baxis": {
            "gridcolor": "white",
            "linecolor": "white",
            "ticks": ""
           },
           "bgcolor": "#E5ECF6",
           "caxis": {
            "gridcolor": "white",
            "linecolor": "white",
            "ticks": ""
           }
          },
          "title": {
           "x": 0.05
          },
          "xaxis": {
           "automargin": true,
           "gridcolor": "white",
           "linecolor": "white",
           "ticks": "",
           "title": {
            "standoff": 15
           },
           "zerolinecolor": "white",
           "zerolinewidth": 2
          },
          "yaxis": {
           "automargin": true,
           "gridcolor": "white",
           "linecolor": "white",
           "ticks": "",
           "title": {
            "standoff": 15
           },
           "zerolinecolor": "white",
           "zerolinewidth": 2
          }
         }
        },
        "title": {
         "text": "Trends in Internet Users and Mobile Subscriptions Over the Years"
        },
        "xaxis": {
         "anchor": "y",
         "domain": [
          0,
          1
         ],
         "title": {
          "text": "Year"
         }
        },
        "yaxis": {
         "anchor": "x",
         "domain": [
          0,
          1
         ],
         "title": {
          "text": "Count"
         }
        }
       }
      }
     },
     "metadata": {},
     "output_type": "display_data"
    }
   ],
   "source": [
    "# Filter rows for internet users and mobile subscriptions\n",
    "selected_metrics = ['Internet users (per 100 people)', 'Mobile cellular subscriptions (per 100 people)']\n",
    "filtered_data = data[data['Series Name'].isin(selected_metrics)]\n",
    "\n",
    "# Reshape the data using melt\n",
    "melted_data = pd.melt(filtered_data, id_vars=['Country Name', 'Country Code', 'Series Name', 'Series Code'], var_name='Year', value_name='Value')\n",
    "\n",
    "# Convert 'Value' column to numeric\n",
    "melted_data['Value'] = pd.to_numeric(melted_data['Value'], errors='coerce')\n",
    "\n",
    "# Create a line chart using Plotly\n",
    "fig = px.line(melted_data, x='Year', y='Value', color='Series Name',\n",
    "              title='Trends in Internet Users and Mobile Subscriptions Over the Years',\n",
    "              labels={'Value': 'Count'},\n",
    "              height=500)\n",
    "fig.update_xaxes(title='Year')\n",
    "fig.update_yaxes(title='Count')\n",
    "fig.show()"
   ]
  },
  {
   "cell_type": "markdown",
   "metadata": {},
   "source": [
    "***The total fixed broadband subscriptions for each year***"
   ]
  },
  {
   "cell_type": "code",
   "execution_count": 149,
   "metadata": {},
   "outputs": [
    {
     "data": {
      "application/vnd.plotly.v1+json": {
       "config": {
        "plotlyServerURL": "https://plot.ly"
       },
       "data": [
        {
         "alignmentgroup": "True",
         "hovertemplate": "Total Subscriptions=%{x}<br>Year=%{y}<extra></extra>",
         "legendgroup": "",
         "marker": {
          "color": "#636efa",
          "pattern": {
           "shape": ""
          }
         },
         "name": "",
         "offsetgroup": "",
         "orientation": "h",
         "showlegend": false,
         "textposition": "auto",
         "type": "bar",
         "x": [
          0,
          0,
          0,
          0,
          0,
          25,
          807,
          60089,
          107053,
          267655,
          985058,
          1342775,
          2681009,
          3624555,
          4718654,
          6114707,
          7370480,
          8946309,
          11550162,
          13520931,
          18167393,
          0
         ],
         "xaxis": "x",
         "y": [
          "1995",
          "1996",
          "1997",
          "1998",
          "1999",
          "2000",
          "2001",
          "2002",
          "2003",
          "2004",
          "2005",
          "2006",
          "2007",
          "2008",
          "2009",
          "2010",
          "2011",
          "2012",
          "2013",
          "2014",
          "2015",
          "2016"
         ],
         "yaxis": "y"
        }
       ],
       "layout": {
        "barmode": "relative",
        "height": 500,
        "legend": {
         "tracegroupgap": 0
        },
        "template": {
         "data": {
          "bar": [
           {
            "error_x": {
             "color": "#2a3f5f"
            },
            "error_y": {
             "color": "#2a3f5f"
            },
            "marker": {
             "line": {
              "color": "#E5ECF6",
              "width": 0.5
             },
             "pattern": {
              "fillmode": "overlay",
              "size": 10,
              "solidity": 0.2
             }
            },
            "type": "bar"
           }
          ],
          "barpolar": [
           {
            "marker": {
             "line": {
              "color": "#E5ECF6",
              "width": 0.5
             },
             "pattern": {
              "fillmode": "overlay",
              "size": 10,
              "solidity": 0.2
             }
            },
            "type": "barpolar"
           }
          ],
          "carpet": [
           {
            "aaxis": {
             "endlinecolor": "#2a3f5f",
             "gridcolor": "white",
             "linecolor": "white",
             "minorgridcolor": "white",
             "startlinecolor": "#2a3f5f"
            },
            "baxis": {
             "endlinecolor": "#2a3f5f",
             "gridcolor": "white",
             "linecolor": "white",
             "minorgridcolor": "white",
             "startlinecolor": "#2a3f5f"
            },
            "type": "carpet"
           }
          ],
          "choropleth": [
           {
            "colorbar": {
             "outlinewidth": 0,
             "ticks": ""
            },
            "type": "choropleth"
           }
          ],
          "contour": [
           {
            "colorbar": {
             "outlinewidth": 0,
             "ticks": ""
            },
            "colorscale": [
             [
              0,
              "#0d0887"
             ],
             [
              0.1111111111111111,
              "#46039f"
             ],
             [
              0.2222222222222222,
              "#7201a8"
             ],
             [
              0.3333333333333333,
              "#9c179e"
             ],
             [
              0.4444444444444444,
              "#bd3786"
             ],
             [
              0.5555555555555556,
              "#d8576b"
             ],
             [
              0.6666666666666666,
              "#ed7953"
             ],
             [
              0.7777777777777778,
              "#fb9f3a"
             ],
             [
              0.8888888888888888,
              "#fdca26"
             ],
             [
              1,
              "#f0f921"
             ]
            ],
            "type": "contour"
           }
          ],
          "contourcarpet": [
           {
            "colorbar": {
             "outlinewidth": 0,
             "ticks": ""
            },
            "type": "contourcarpet"
           }
          ],
          "heatmap": [
           {
            "colorbar": {
             "outlinewidth": 0,
             "ticks": ""
            },
            "colorscale": [
             [
              0,
              "#0d0887"
             ],
             [
              0.1111111111111111,
              "#46039f"
             ],
             [
              0.2222222222222222,
              "#7201a8"
             ],
             [
              0.3333333333333333,
              "#9c179e"
             ],
             [
              0.4444444444444444,
              "#bd3786"
             ],
             [
              0.5555555555555556,
              "#d8576b"
             ],
             [
              0.6666666666666666,
              "#ed7953"
             ],
             [
              0.7777777777777778,
              "#fb9f3a"
             ],
             [
              0.8888888888888888,
              "#fdca26"
             ],
             [
              1,
              "#f0f921"
             ]
            ],
            "type": "heatmap"
           }
          ],
          "heatmapgl": [
           {
            "colorbar": {
             "outlinewidth": 0,
             "ticks": ""
            },
            "colorscale": [
             [
              0,
              "#0d0887"
             ],
             [
              0.1111111111111111,
              "#46039f"
             ],
             [
              0.2222222222222222,
              "#7201a8"
             ],
             [
              0.3333333333333333,
              "#9c179e"
             ],
             [
              0.4444444444444444,
              "#bd3786"
             ],
             [
              0.5555555555555556,
              "#d8576b"
             ],
             [
              0.6666666666666666,
              "#ed7953"
             ],
             [
              0.7777777777777778,
              "#fb9f3a"
             ],
             [
              0.8888888888888888,
              "#fdca26"
             ],
             [
              1,
              "#f0f921"
             ]
            ],
            "type": "heatmapgl"
           }
          ],
          "histogram": [
           {
            "marker": {
             "pattern": {
              "fillmode": "overlay",
              "size": 10,
              "solidity": 0.2
             }
            },
            "type": "histogram"
           }
          ],
          "histogram2d": [
           {
            "colorbar": {
             "outlinewidth": 0,
             "ticks": ""
            },
            "colorscale": [
             [
              0,
              "#0d0887"
             ],
             [
              0.1111111111111111,
              "#46039f"
             ],
             [
              0.2222222222222222,
              "#7201a8"
             ],
             [
              0.3333333333333333,
              "#9c179e"
             ],
             [
              0.4444444444444444,
              "#bd3786"
             ],
             [
              0.5555555555555556,
              "#d8576b"
             ],
             [
              0.6666666666666666,
              "#ed7953"
             ],
             [
              0.7777777777777778,
              "#fb9f3a"
             ],
             [
              0.8888888888888888,
              "#fdca26"
             ],
             [
              1,
              "#f0f921"
             ]
            ],
            "type": "histogram2d"
           }
          ],
          "histogram2dcontour": [
           {
            "colorbar": {
             "outlinewidth": 0,
             "ticks": ""
            },
            "colorscale": [
             [
              0,
              "#0d0887"
             ],
             [
              0.1111111111111111,
              "#46039f"
             ],
             [
              0.2222222222222222,
              "#7201a8"
             ],
             [
              0.3333333333333333,
              "#9c179e"
             ],
             [
              0.4444444444444444,
              "#bd3786"
             ],
             [
              0.5555555555555556,
              "#d8576b"
             ],
             [
              0.6666666666666666,
              "#ed7953"
             ],
             [
              0.7777777777777778,
              "#fb9f3a"
             ],
             [
              0.8888888888888888,
              "#fdca26"
             ],
             [
              1,
              "#f0f921"
             ]
            ],
            "type": "histogram2dcontour"
           }
          ],
          "mesh3d": [
           {
            "colorbar": {
             "outlinewidth": 0,
             "ticks": ""
            },
            "type": "mesh3d"
           }
          ],
          "parcoords": [
           {
            "line": {
             "colorbar": {
              "outlinewidth": 0,
              "ticks": ""
             }
            },
            "type": "parcoords"
           }
          ],
          "pie": [
           {
            "automargin": true,
            "type": "pie"
           }
          ],
          "scatter": [
           {
            "fillpattern": {
             "fillmode": "overlay",
             "size": 10,
             "solidity": 0.2
            },
            "type": "scatter"
           }
          ],
          "scatter3d": [
           {
            "line": {
             "colorbar": {
              "outlinewidth": 0,
              "ticks": ""
             }
            },
            "marker": {
             "colorbar": {
              "outlinewidth": 0,
              "ticks": ""
             }
            },
            "type": "scatter3d"
           }
          ],
          "scattercarpet": [
           {
            "marker": {
             "colorbar": {
              "outlinewidth": 0,
              "ticks": ""
             }
            },
            "type": "scattercarpet"
           }
          ],
          "scattergeo": [
           {
            "marker": {
             "colorbar": {
              "outlinewidth": 0,
              "ticks": ""
             }
            },
            "type": "scattergeo"
           }
          ],
          "scattergl": [
           {
            "marker": {
             "colorbar": {
              "outlinewidth": 0,
              "ticks": ""
             }
            },
            "type": "scattergl"
           }
          ],
          "scattermapbox": [
           {
            "marker": {
             "colorbar": {
              "outlinewidth": 0,
              "ticks": ""
             }
            },
            "type": "scattermapbox"
           }
          ],
          "scatterpolar": [
           {
            "marker": {
             "colorbar": {
              "outlinewidth": 0,
              "ticks": ""
             }
            },
            "type": "scatterpolar"
           }
          ],
          "scatterpolargl": [
           {
            "marker": {
             "colorbar": {
              "outlinewidth": 0,
              "ticks": ""
             }
            },
            "type": "scatterpolargl"
           }
          ],
          "scatterternary": [
           {
            "marker": {
             "colorbar": {
              "outlinewidth": 0,
              "ticks": ""
             }
            },
            "type": "scatterternary"
           }
          ],
          "surface": [
           {
            "colorbar": {
             "outlinewidth": 0,
             "ticks": ""
            },
            "colorscale": [
             [
              0,
              "#0d0887"
             ],
             [
              0.1111111111111111,
              "#46039f"
             ],
             [
              0.2222222222222222,
              "#7201a8"
             ],
             [
              0.3333333333333333,
              "#9c179e"
             ],
             [
              0.4444444444444444,
              "#bd3786"
             ],
             [
              0.5555555555555556,
              "#d8576b"
             ],
             [
              0.6666666666666666,
              "#ed7953"
             ],
             [
              0.7777777777777778,
              "#fb9f3a"
             ],
             [
              0.8888888888888888,
              "#fdca26"
             ],
             [
              1,
              "#f0f921"
             ]
            ],
            "type": "surface"
           }
          ],
          "table": [
           {
            "cells": {
             "fill": {
              "color": "#EBF0F8"
             },
             "line": {
              "color": "white"
             }
            },
            "header": {
             "fill": {
              "color": "#C8D4E3"
             },
             "line": {
              "color": "white"
             }
            },
            "type": "table"
           }
          ]
         },
         "layout": {
          "annotationdefaults": {
           "arrowcolor": "#2a3f5f",
           "arrowhead": 0,
           "arrowwidth": 1
          },
          "autotypenumbers": "strict",
          "coloraxis": {
           "colorbar": {
            "outlinewidth": 0,
            "ticks": ""
           }
          },
          "colorscale": {
           "diverging": [
            [
             0,
             "#8e0152"
            ],
            [
             0.1,
             "#c51b7d"
            ],
            [
             0.2,
             "#de77ae"
            ],
            [
             0.3,
             "#f1b6da"
            ],
            [
             0.4,
             "#fde0ef"
            ],
            [
             0.5,
             "#f7f7f7"
            ],
            [
             0.6,
             "#e6f5d0"
            ],
            [
             0.7,
             "#b8e186"
            ],
            [
             0.8,
             "#7fbc41"
            ],
            [
             0.9,
             "#4d9221"
            ],
            [
             1,
             "#276419"
            ]
           ],
           "sequential": [
            [
             0,
             "#0d0887"
            ],
            [
             0.1111111111111111,
             "#46039f"
            ],
            [
             0.2222222222222222,
             "#7201a8"
            ],
            [
             0.3333333333333333,
             "#9c179e"
            ],
            [
             0.4444444444444444,
             "#bd3786"
            ],
            [
             0.5555555555555556,
             "#d8576b"
            ],
            [
             0.6666666666666666,
             "#ed7953"
            ],
            [
             0.7777777777777778,
             "#fb9f3a"
            ],
            [
             0.8888888888888888,
             "#fdca26"
            ],
            [
             1,
             "#f0f921"
            ]
           ],
           "sequentialminus": [
            [
             0,
             "#0d0887"
            ],
            [
             0.1111111111111111,
             "#46039f"
            ],
            [
             0.2222222222222222,
             "#7201a8"
            ],
            [
             0.3333333333333333,
             "#9c179e"
            ],
            [
             0.4444444444444444,
             "#bd3786"
            ],
            [
             0.5555555555555556,
             "#d8576b"
            ],
            [
             0.6666666666666666,
             "#ed7953"
            ],
            [
             0.7777777777777778,
             "#fb9f3a"
            ],
            [
             0.8888888888888888,
             "#fdca26"
            ],
            [
             1,
             "#f0f921"
            ]
           ]
          },
          "colorway": [
           "#636efa",
           "#EF553B",
           "#00cc96",
           "#ab63fa",
           "#FFA15A",
           "#19d3f3",
           "#FF6692",
           "#B6E880",
           "#FF97FF",
           "#FECB52"
          ],
          "font": {
           "color": "#2a3f5f"
          },
          "geo": {
           "bgcolor": "white",
           "lakecolor": "white",
           "landcolor": "#E5ECF6",
           "showlakes": true,
           "showland": true,
           "subunitcolor": "white"
          },
          "hoverlabel": {
           "align": "left"
          },
          "hovermode": "closest",
          "mapbox": {
           "style": "light"
          },
          "paper_bgcolor": "white",
          "plot_bgcolor": "#E5ECF6",
          "polar": {
           "angularaxis": {
            "gridcolor": "white",
            "linecolor": "white",
            "ticks": ""
           },
           "bgcolor": "#E5ECF6",
           "radialaxis": {
            "gridcolor": "white",
            "linecolor": "white",
            "ticks": ""
           }
          },
          "scene": {
           "xaxis": {
            "backgroundcolor": "#E5ECF6",
            "gridcolor": "white",
            "gridwidth": 2,
            "linecolor": "white",
            "showbackground": true,
            "ticks": "",
            "zerolinecolor": "white"
           },
           "yaxis": {
            "backgroundcolor": "#E5ECF6",
            "gridcolor": "white",
            "gridwidth": 2,
            "linecolor": "white",
            "showbackground": true,
            "ticks": "",
            "zerolinecolor": "white"
           },
           "zaxis": {
            "backgroundcolor": "#E5ECF6",
            "gridcolor": "white",
            "gridwidth": 2,
            "linecolor": "white",
            "showbackground": true,
            "ticks": "",
            "zerolinecolor": "white"
           }
          },
          "shapedefaults": {
           "line": {
            "color": "#2a3f5f"
           }
          },
          "ternary": {
           "aaxis": {
            "gridcolor": "white",
            "linecolor": "white",
            "ticks": ""
           },
           "baxis": {
            "gridcolor": "white",
            "linecolor": "white",
            "ticks": ""
           },
           "bgcolor": "#E5ECF6",
           "caxis": {
            "gridcolor": "white",
            "linecolor": "white",
            "ticks": ""
           }
          },
          "title": {
           "x": 0.05
          },
          "xaxis": {
           "automargin": true,
           "gridcolor": "white",
           "linecolor": "white",
           "ticks": "",
           "title": {
            "standoff": 15
           },
           "zerolinecolor": "white",
           "zerolinewidth": 2
          },
          "yaxis": {
           "automargin": true,
           "gridcolor": "white",
           "linecolor": "white",
           "ticks": "",
           "title": {
            "standoff": 15
           },
           "zerolinecolor": "white",
           "zerolinewidth": 2
          }
         }
        },
        "title": {
         "text": "Total Fixed Broadband Subscriptions Over the Years"
        },
        "xaxis": {
         "anchor": "y",
         "domain": [
          0,
          1
         ],
         "title": {
          "text": "Total Subscriptions"
         }
        },
        "yaxis": {
         "anchor": "x",
         "domain": [
          0,
          1
         ],
         "title": {
          "text": "Year"
         }
        }
       }
      }
     },
     "metadata": {},
     "output_type": "display_data"
    }
   ],
   "source": [
    "\n",
    "# Filter rows for fixed broadband subscriptions\n",
    "selected_metric = 'Fixed broadband subscriptions'\n",
    "filtered_data = data[data['Series Name'] == selected_metric]\n",
    "\n",
    "# Reshape the data using melt\n",
    "melted_data = pd.melt(filtered_data, id_vars=['Country Name', 'Country Code', 'Series Name', 'Series Code'], var_name='Year', value_name='Value')\n",
    "\n",
    "# Convert 'Value' column to numeric\n",
    "melted_data['Value'] = pd.to_numeric(melted_data['Value'], errors='coerce')\n",
    "\n",
    "# Calculate the total fixed broadband subscriptions for each year\n",
    "total_subscriptions = melted_data.groupby('Year')['Value'].sum().reset_index()\n",
    "\n",
    "# Create a bar chart using Plotly\n",
    "fig = px.bar(total_subscriptions, y='Year', x='Value',\n",
    "             title='Total Fixed Broadband Subscriptions Over the Years',\n",
    "             labels={'Value': 'Total Subscriptions'},\n",
    "             height=500)\n",
    "fig.update_yaxes(title='Year')\n",
    "fig.update_xaxes(title='Total Subscriptions')\n",
    "fig.show()"
   ]
  },
  {
   "cell_type": "markdown",
   "metadata": {},
   "source": [
    "***The export value of ICT services.***"
   ]
  },
  {
   "cell_type": "code",
   "execution_count": 144,
   "metadata": {},
   "outputs": [
    {
     "data": {
      "application/vnd.plotly.v1+json": {
       "config": {
        "plotlyServerURL": "https://plot.ly"
       },
       "data": [
        {
         "alignmentgroup": "True",
         "hovertemplate": "Value=%{x}<br>Year=%{y}<extra></extra>",
         "legendgroup": "",
         "marker": {
          "color": "#636efa",
          "pattern": {
           "shape": ""
          }
         },
         "name": "",
         "offsetgroup": "",
         "orientation": "h",
         "showlegend": false,
         "textposition": "auto",
         "type": "bar",
         "x": [
          3956464413.878,
          5063929813.808,
          4742290408.952,
          4297319405.061,
          4151230860.9700003,
          5057205725.514,
          4872449490.471,
          5323158472.863,
          5491721338.872,
          7546714047.4838,
          7682243695.5564995,
          8568057092.8343,
          10896020944.130001,
          13837386015.534,
          18192719596.89,
          13605123482.826,
          22008242295.138,
          23070242267.606,
          14935545413.302,
          14159357731.2,
          9894006524.034
         ],
         "xaxis": "x",
         "y": [
          "1995",
          "1996",
          "1997",
          "1998",
          "1999",
          "2000",
          "2001",
          "2002",
          "2003",
          "2004",
          "2005",
          "2006",
          "2007",
          "2008",
          "2009",
          "2010",
          "2011",
          "2012",
          "2013",
          "2014",
          "2015"
         ],
         "yaxis": "y"
        }
       ],
       "layout": {
        "barmode": "relative",
        "legend": {
         "tracegroupgap": 0
        },
        "template": {
         "data": {
          "bar": [
           {
            "error_x": {
             "color": "#2a3f5f"
            },
            "error_y": {
             "color": "#2a3f5f"
            },
            "marker": {
             "line": {
              "color": "#E5ECF6",
              "width": 0.5
             },
             "pattern": {
              "fillmode": "overlay",
              "size": 10,
              "solidity": 0.2
             }
            },
            "type": "bar"
           }
          ],
          "barpolar": [
           {
            "marker": {
             "line": {
              "color": "#E5ECF6",
              "width": 0.5
             },
             "pattern": {
              "fillmode": "overlay",
              "size": 10,
              "solidity": 0.2
             }
            },
            "type": "barpolar"
           }
          ],
          "carpet": [
           {
            "aaxis": {
             "endlinecolor": "#2a3f5f",
             "gridcolor": "white",
             "linecolor": "white",
             "minorgridcolor": "white",
             "startlinecolor": "#2a3f5f"
            },
            "baxis": {
             "endlinecolor": "#2a3f5f",
             "gridcolor": "white",
             "linecolor": "white",
             "minorgridcolor": "white",
             "startlinecolor": "#2a3f5f"
            },
            "type": "carpet"
           }
          ],
          "choropleth": [
           {
            "colorbar": {
             "outlinewidth": 0,
             "ticks": ""
            },
            "type": "choropleth"
           }
          ],
          "contour": [
           {
            "colorbar": {
             "outlinewidth": 0,
             "ticks": ""
            },
            "colorscale": [
             [
              0,
              "#0d0887"
             ],
             [
              0.1111111111111111,
              "#46039f"
             ],
             [
              0.2222222222222222,
              "#7201a8"
             ],
             [
              0.3333333333333333,
              "#9c179e"
             ],
             [
              0.4444444444444444,
              "#bd3786"
             ],
             [
              0.5555555555555556,
              "#d8576b"
             ],
             [
              0.6666666666666666,
              "#ed7953"
             ],
             [
              0.7777777777777778,
              "#fb9f3a"
             ],
             [
              0.8888888888888888,
              "#fdca26"
             ],
             [
              1,
              "#f0f921"
             ]
            ],
            "type": "contour"
           }
          ],
          "contourcarpet": [
           {
            "colorbar": {
             "outlinewidth": 0,
             "ticks": ""
            },
            "type": "contourcarpet"
           }
          ],
          "heatmap": [
           {
            "colorbar": {
             "outlinewidth": 0,
             "ticks": ""
            },
            "colorscale": [
             [
              0,
              "#0d0887"
             ],
             [
              0.1111111111111111,
              "#46039f"
             ],
             [
              0.2222222222222222,
              "#7201a8"
             ],
             [
              0.3333333333333333,
              "#9c179e"
             ],
             [
              0.4444444444444444,
              "#bd3786"
             ],
             [
              0.5555555555555556,
              "#d8576b"
             ],
             [
              0.6666666666666666,
              "#ed7953"
             ],
             [
              0.7777777777777778,
              "#fb9f3a"
             ],
             [
              0.8888888888888888,
              "#fdca26"
             ],
             [
              1,
              "#f0f921"
             ]
            ],
            "type": "heatmap"
           }
          ],
          "heatmapgl": [
           {
            "colorbar": {
             "outlinewidth": 0,
             "ticks": ""
            },
            "colorscale": [
             [
              0,
              "#0d0887"
             ],
             [
              0.1111111111111111,
              "#46039f"
             ],
             [
              0.2222222222222222,
              "#7201a8"
             ],
             [
              0.3333333333333333,
              "#9c179e"
             ],
             [
              0.4444444444444444,
              "#bd3786"
             ],
             [
              0.5555555555555556,
              "#d8576b"
             ],
             [
              0.6666666666666666,
              "#ed7953"
             ],
             [
              0.7777777777777778,
              "#fb9f3a"
             ],
             [
              0.8888888888888888,
              "#fdca26"
             ],
             [
              1,
              "#f0f921"
             ]
            ],
            "type": "heatmapgl"
           }
          ],
          "histogram": [
           {
            "marker": {
             "pattern": {
              "fillmode": "overlay",
              "size": 10,
              "solidity": 0.2
             }
            },
            "type": "histogram"
           }
          ],
          "histogram2d": [
           {
            "colorbar": {
             "outlinewidth": 0,
             "ticks": ""
            },
            "colorscale": [
             [
              0,
              "#0d0887"
             ],
             [
              0.1111111111111111,
              "#46039f"
             ],
             [
              0.2222222222222222,
              "#7201a8"
             ],
             [
              0.3333333333333333,
              "#9c179e"
             ],
             [
              0.4444444444444444,
              "#bd3786"
             ],
             [
              0.5555555555555556,
              "#d8576b"
             ],
             [
              0.6666666666666666,
              "#ed7953"
             ],
             [
              0.7777777777777778,
              "#fb9f3a"
             ],
             [
              0.8888888888888888,
              "#fdca26"
             ],
             [
              1,
              "#f0f921"
             ]
            ],
            "type": "histogram2d"
           }
          ],
          "histogram2dcontour": [
           {
            "colorbar": {
             "outlinewidth": 0,
             "ticks": ""
            },
            "colorscale": [
             [
              0,
              "#0d0887"
             ],
             [
              0.1111111111111111,
              "#46039f"
             ],
             [
              0.2222222222222222,
              "#7201a8"
             ],
             [
              0.3333333333333333,
              "#9c179e"
             ],
             [
              0.4444444444444444,
              "#bd3786"
             ],
             [
              0.5555555555555556,
              "#d8576b"
             ],
             [
              0.6666666666666666,
              "#ed7953"
             ],
             [
              0.7777777777777778,
              "#fb9f3a"
             ],
             [
              0.8888888888888888,
              "#fdca26"
             ],
             [
              1,
              "#f0f921"
             ]
            ],
            "type": "histogram2dcontour"
           }
          ],
          "mesh3d": [
           {
            "colorbar": {
             "outlinewidth": 0,
             "ticks": ""
            },
            "type": "mesh3d"
           }
          ],
          "parcoords": [
           {
            "line": {
             "colorbar": {
              "outlinewidth": 0,
              "ticks": ""
             }
            },
            "type": "parcoords"
           }
          ],
          "pie": [
           {
            "automargin": true,
            "type": "pie"
           }
          ],
          "scatter": [
           {
            "fillpattern": {
             "fillmode": "overlay",
             "size": 10,
             "solidity": 0.2
            },
            "type": "scatter"
           }
          ],
          "scatter3d": [
           {
            "line": {
             "colorbar": {
              "outlinewidth": 0,
              "ticks": ""
             }
            },
            "marker": {
             "colorbar": {
              "outlinewidth": 0,
              "ticks": ""
             }
            },
            "type": "scatter3d"
           }
          ],
          "scattercarpet": [
           {
            "marker": {
             "colorbar": {
              "outlinewidth": 0,
              "ticks": ""
             }
            },
            "type": "scattercarpet"
           }
          ],
          "scattergeo": [
           {
            "marker": {
             "colorbar": {
              "outlinewidth": 0,
              "ticks": ""
             }
            },
            "type": "scattergeo"
           }
          ],
          "scattergl": [
           {
            "marker": {
             "colorbar": {
              "outlinewidth": 0,
              "ticks": ""
             }
            },
            "type": "scattergl"
           }
          ],
          "scattermapbox": [
           {
            "marker": {
             "colorbar": {
              "outlinewidth": 0,
              "ticks": ""
             }
            },
            "type": "scattermapbox"
           }
          ],
          "scatterpolar": [
           {
            "marker": {
             "colorbar": {
              "outlinewidth": 0,
              "ticks": ""
             }
            },
            "type": "scatterpolar"
           }
          ],
          "scatterpolargl": [
           {
            "marker": {
             "colorbar": {
              "outlinewidth": 0,
              "ticks": ""
             }
            },
            "type": "scatterpolargl"
           }
          ],
          "scatterternary": [
           {
            "marker": {
             "colorbar": {
              "outlinewidth": 0,
              "ticks": ""
             }
            },
            "type": "scatterternary"
           }
          ],
          "surface": [
           {
            "colorbar": {
             "outlinewidth": 0,
             "ticks": ""
            },
            "colorscale": [
             [
              0,
              "#0d0887"
             ],
             [
              0.1111111111111111,
              "#46039f"
             ],
             [
              0.2222222222222222,
              "#7201a8"
             ],
             [
              0.3333333333333333,
              "#9c179e"
             ],
             [
              0.4444444444444444,
              "#bd3786"
             ],
             [
              0.5555555555555556,
              "#d8576b"
             ],
             [
              0.6666666666666666,
              "#ed7953"
             ],
             [
              0.7777777777777778,
              "#fb9f3a"
             ],
             [
              0.8888888888888888,
              "#fdca26"
             ],
             [
              1,
              "#f0f921"
             ]
            ],
            "type": "surface"
           }
          ],
          "table": [
           {
            "cells": {
             "fill": {
              "color": "#EBF0F8"
             },
             "line": {
              "color": "white"
             }
            },
            "header": {
             "fill": {
              "color": "#C8D4E3"
             },
             "line": {
              "color": "white"
             }
            },
            "type": "table"
           }
          ]
         },
         "layout": {
          "annotationdefaults": {
           "arrowcolor": "#2a3f5f",
           "arrowhead": 0,
           "arrowwidth": 1
          },
          "autotypenumbers": "strict",
          "coloraxis": {
           "colorbar": {
            "outlinewidth": 0,
            "ticks": ""
           }
          },
          "colorscale": {
           "diverging": [
            [
             0,
             "#8e0152"
            ],
            [
             0.1,
             "#c51b7d"
            ],
            [
             0.2,
             "#de77ae"
            ],
            [
             0.3,
             "#f1b6da"
            ],
            [
             0.4,
             "#fde0ef"
            ],
            [
             0.5,
             "#f7f7f7"
            ],
            [
             0.6,
             "#e6f5d0"
            ],
            [
             0.7,
             "#b8e186"
            ],
            [
             0.8,
             "#7fbc41"
            ],
            [
             0.9,
             "#4d9221"
            ],
            [
             1,
             "#276419"
            ]
           ],
           "sequential": [
            [
             0,
             "#0d0887"
            ],
            [
             0.1111111111111111,
             "#46039f"
            ],
            [
             0.2222222222222222,
             "#7201a8"
            ],
            [
             0.3333333333333333,
             "#9c179e"
            ],
            [
             0.4444444444444444,
             "#bd3786"
            ],
            [
             0.5555555555555556,
             "#d8576b"
            ],
            [
             0.6666666666666666,
             "#ed7953"
            ],
            [
             0.7777777777777778,
             "#fb9f3a"
            ],
            [
             0.8888888888888888,
             "#fdca26"
            ],
            [
             1,
             "#f0f921"
            ]
           ],
           "sequentialminus": [
            [
             0,
             "#0d0887"
            ],
            [
             0.1111111111111111,
             "#46039f"
            ],
            [
             0.2222222222222222,
             "#7201a8"
            ],
            [
             0.3333333333333333,
             "#9c179e"
            ],
            [
             0.4444444444444444,
             "#bd3786"
            ],
            [
             0.5555555555555556,
             "#d8576b"
            ],
            [
             0.6666666666666666,
             "#ed7953"
            ],
            [
             0.7777777777777778,
             "#fb9f3a"
            ],
            [
             0.8888888888888888,
             "#fdca26"
            ],
            [
             1,
             "#f0f921"
            ]
           ]
          },
          "colorway": [
           "#636efa",
           "#EF553B",
           "#00cc96",
           "#ab63fa",
           "#FFA15A",
           "#19d3f3",
           "#FF6692",
           "#B6E880",
           "#FF97FF",
           "#FECB52"
          ],
          "font": {
           "color": "#2a3f5f"
          },
          "geo": {
           "bgcolor": "white",
           "lakecolor": "white",
           "landcolor": "#E5ECF6",
           "showlakes": true,
           "showland": true,
           "subunitcolor": "white"
          },
          "hoverlabel": {
           "align": "left"
          },
          "hovermode": "closest",
          "mapbox": {
           "style": "light"
          },
          "paper_bgcolor": "white",
          "plot_bgcolor": "#E5ECF6",
          "polar": {
           "angularaxis": {
            "gridcolor": "white",
            "linecolor": "white",
            "ticks": ""
           },
           "bgcolor": "#E5ECF6",
           "radialaxis": {
            "gridcolor": "white",
            "linecolor": "white",
            "ticks": ""
           }
          },
          "scene": {
           "xaxis": {
            "backgroundcolor": "#E5ECF6",
            "gridcolor": "white",
            "gridwidth": 2,
            "linecolor": "white",
            "showbackground": true,
            "ticks": "",
            "zerolinecolor": "white"
           },
           "yaxis": {
            "backgroundcolor": "#E5ECF6",
            "gridcolor": "white",
            "gridwidth": 2,
            "linecolor": "white",
            "showbackground": true,
            "ticks": "",
            "zerolinecolor": "white"
           },
           "zaxis": {
            "backgroundcolor": "#E5ECF6",
            "gridcolor": "white",
            "gridwidth": 2,
            "linecolor": "white",
            "showbackground": true,
            "ticks": "",
            "zerolinecolor": "white"
           }
          },
          "shapedefaults": {
           "line": {
            "color": "#2a3f5f"
           }
          },
          "ternary": {
           "aaxis": {
            "gridcolor": "white",
            "linecolor": "white",
            "ticks": ""
           },
           "baxis": {
            "gridcolor": "white",
            "linecolor": "white",
            "ticks": ""
           },
           "bgcolor": "#E5ECF6",
           "caxis": {
            "gridcolor": "white",
            "linecolor": "white",
            "ticks": ""
           }
          },
          "title": {
           "x": 0.05
          },
          "xaxis": {
           "automargin": true,
           "gridcolor": "white",
           "linecolor": "white",
           "ticks": "",
           "title": {
            "standoff": 15
           },
           "zerolinecolor": "white",
           "zerolinewidth": 2
          },
          "yaxis": {
           "automargin": true,
           "gridcolor": "white",
           "linecolor": "white",
           "ticks": "",
           "title": {
            "standoff": 15
           },
           "zerolinecolor": "white",
           "zerolinewidth": 2
          }
         }
        },
        "title": {
         "text": "Export Value of ICT Services Over the Years"
        },
        "xaxis": {
         "anchor": "y",
         "domain": [
          0,
          1
         ],
         "title": {
          "text": "Export Value (Current US$)"
         }
        },
        "yaxis": {
         "anchor": "x",
         "domain": [
          0,
          1
         ],
         "title": {
          "text": "Year"
         }
        }
       }
      }
     },
     "metadata": {},
     "output_type": "display_data"
    }
   ],
   "source": [
    "# Clean the data: Filter rows for the desired metric\n",
    "selected_metric = 'ICT service exports (BoP, current US$)'\n",
    "filtered_data = data[data['Series Name'] == selected_metric]\n",
    "\n",
    "# Reshape the data using melt\n",
    "melted_data = pd.melt(filtered_data, id_vars=['Country Name', 'Country Code', 'Series Name', 'Series Code'], var_name='Year', value_name='Value')\n",
    "\n",
    "# Remove rows with missing values\n",
    "melted_data = melted_data.dropna()\n",
    "\n",
    "# Convert 'Value' column to numeric\n",
    "melted_data['Value'] = pd.to_numeric(melted_data['Value'], errors='coerce')\n",
    "\n",
    "# Group by year and calculate the sum of 'ICT Service Exports (BoP, current US$)' for each year\n",
    "total_exports = melted_data.groupby('Year')['Value'].sum().reset_index()\n",
    "\n",
    "# Create a bar chart using Plotly\n",
    "fig = px.bar(total_exports, y='Year', x='Value', title='Export Value of ICT Services Over the Years')\n",
    "fig.update_yaxes(title='Year')\n",
    "fig.update_xaxes(title='Export Value (Current US$)')\n",
    "fig.show()"
   ]
  },
  {
   "cell_type": "markdown",
   "metadata": {},
   "source": [
    "**Average percentages of ICT goods imports and high-tech exports over the years.**"
   ]
  },
  {
   "cell_type": "code",
   "execution_count": 146,
   "metadata": {},
   "outputs": [
    {
     "data": {
      "application/vnd.plotly.v1+json": {
       "config": {
        "plotlyServerURL": "https://plot.ly"
       },
       "data": [
        {
         "alignmentgroup": "True",
         "hovertemplate": "variable=ICT goods imports (% total goods imports)<br>Percentage=%{x}<br>Year=%{y}<extra></extra>",
         "legendgroup": "ICT goods imports (% total goods imports)",
         "marker": {
          "color": "#636efa",
          "pattern": {
           "shape": ""
          }
         },
         "name": "ICT goods imports (% total goods imports)",
         "offsetgroup": "ICT goods imports (% total goods imports)",
         "orientation": "h",
         "showlegend": true,
         "textposition": "auto",
         "type": "bar",
         "x": [
          null,
          null,
          null,
          null,
          null,
          4.318131207178571,
          4.423278525914285,
          4.4359566269999995,
          4.536557776631579,
          4.857970199694445,
          4.7270523460526315,
          4.83989883127027,
          4.7387612081,
          4.28073475072093,
          4.842279826829268,
          4.50943505305,
          3.7157691484210527,
          3.6220294384864866,
          3.512018972,
          3.8946333493636365,
          null
         ],
         "xaxis": "x",
         "y": [
          "1995",
          "1996",
          "1997",
          "1998",
          "1999",
          "2000",
          "2001",
          "2002",
          "2003",
          "2004",
          "2005",
          "2006",
          "2007",
          "2008",
          "2009",
          "2010",
          "2011",
          "2012",
          "2013",
          "2014",
          "2015"
         ],
         "yaxis": "y"
        },
        {
         "alignmentgroup": "True",
         "hovertemplate": "variable=High-technology exports (% of manufactured exports)<br>Percentage=%{x}<br>Year=%{y}<extra></extra>",
         "legendgroup": "High-technology exports (% of manufactured exports)",
         "marker": {
          "color": "#EF553B",
          "pattern": {
           "shape": ""
          }
         },
         "name": "High-technology exports (% of manufactured exports)",
         "offsetgroup": "High-technology exports (% of manufactured exports)",
         "orientation": "h",
         "showlegend": true,
         "textposition": "auto",
         "type": "bar",
         "x": [
          2.6898180633703705,
          3.407423835580645,
          3.978144304176471,
          4.757319148666667,
          5.779193168647059,
          3.322555600707317,
          3.974336492097561,
          6.570471036878049,
          4.583540304921052,
          4.243050646837838,
          5.238129279973684,
          6.05561099368421,
          4.367664534230769,
          3.2914374705999996,
          5.841923776179487,
          3.226494304605263,
          4.8642218708918925,
          4.4786807332,
          5.1419664301764705,
          4.75797593703125,
          3.1632916058333334
         ],
         "xaxis": "x",
         "y": [
          "1995",
          "1996",
          "1997",
          "1998",
          "1999",
          "2000",
          "2001",
          "2002",
          "2003",
          "2004",
          "2005",
          "2006",
          "2007",
          "2008",
          "2009",
          "2010",
          "2011",
          "2012",
          "2013",
          "2014",
          "2015"
         ],
         "yaxis": "y"
        }
       ],
       "layout": {
        "barmode": "group",
        "height": 500,
        "legend": {
         "title": {
          "text": "variable"
         },
         "tracegroupgap": 0
        },
        "template": {
         "data": {
          "bar": [
           {
            "error_x": {
             "color": "#2a3f5f"
            },
            "error_y": {
             "color": "#2a3f5f"
            },
            "marker": {
             "line": {
              "color": "#E5ECF6",
              "width": 0.5
             },
             "pattern": {
              "fillmode": "overlay",
              "size": 10,
              "solidity": 0.2
             }
            },
            "type": "bar"
           }
          ],
          "barpolar": [
           {
            "marker": {
             "line": {
              "color": "#E5ECF6",
              "width": 0.5
             },
             "pattern": {
              "fillmode": "overlay",
              "size": 10,
              "solidity": 0.2
             }
            },
            "type": "barpolar"
           }
          ],
          "carpet": [
           {
            "aaxis": {
             "endlinecolor": "#2a3f5f",
             "gridcolor": "white",
             "linecolor": "white",
             "minorgridcolor": "white",
             "startlinecolor": "#2a3f5f"
            },
            "baxis": {
             "endlinecolor": "#2a3f5f",
             "gridcolor": "white",
             "linecolor": "white",
             "minorgridcolor": "white",
             "startlinecolor": "#2a3f5f"
            },
            "type": "carpet"
           }
          ],
          "choropleth": [
           {
            "colorbar": {
             "outlinewidth": 0,
             "ticks": ""
            },
            "type": "choropleth"
           }
          ],
          "contour": [
           {
            "colorbar": {
             "outlinewidth": 0,
             "ticks": ""
            },
            "colorscale": [
             [
              0,
              "#0d0887"
             ],
             [
              0.1111111111111111,
              "#46039f"
             ],
             [
              0.2222222222222222,
              "#7201a8"
             ],
             [
              0.3333333333333333,
              "#9c179e"
             ],
             [
              0.4444444444444444,
              "#bd3786"
             ],
             [
              0.5555555555555556,
              "#d8576b"
             ],
             [
              0.6666666666666666,
              "#ed7953"
             ],
             [
              0.7777777777777778,
              "#fb9f3a"
             ],
             [
              0.8888888888888888,
              "#fdca26"
             ],
             [
              1,
              "#f0f921"
             ]
            ],
            "type": "contour"
           }
          ],
          "contourcarpet": [
           {
            "colorbar": {
             "outlinewidth": 0,
             "ticks": ""
            },
            "type": "contourcarpet"
           }
          ],
          "heatmap": [
           {
            "colorbar": {
             "outlinewidth": 0,
             "ticks": ""
            },
            "colorscale": [
             [
              0,
              "#0d0887"
             ],
             [
              0.1111111111111111,
              "#46039f"
             ],
             [
              0.2222222222222222,
              "#7201a8"
             ],
             [
              0.3333333333333333,
              "#9c179e"
             ],
             [
              0.4444444444444444,
              "#bd3786"
             ],
             [
              0.5555555555555556,
              "#d8576b"
             ],
             [
              0.6666666666666666,
              "#ed7953"
             ],
             [
              0.7777777777777778,
              "#fb9f3a"
             ],
             [
              0.8888888888888888,
              "#fdca26"
             ],
             [
              1,
              "#f0f921"
             ]
            ],
            "type": "heatmap"
           }
          ],
          "heatmapgl": [
           {
            "colorbar": {
             "outlinewidth": 0,
             "ticks": ""
            },
            "colorscale": [
             [
              0,
              "#0d0887"
             ],
             [
              0.1111111111111111,
              "#46039f"
             ],
             [
              0.2222222222222222,
              "#7201a8"
             ],
             [
              0.3333333333333333,
              "#9c179e"
             ],
             [
              0.4444444444444444,
              "#bd3786"
             ],
             [
              0.5555555555555556,
              "#d8576b"
             ],
             [
              0.6666666666666666,
              "#ed7953"
             ],
             [
              0.7777777777777778,
              "#fb9f3a"
             ],
             [
              0.8888888888888888,
              "#fdca26"
             ],
             [
              1,
              "#f0f921"
             ]
            ],
            "type": "heatmapgl"
           }
          ],
          "histogram": [
           {
            "marker": {
             "pattern": {
              "fillmode": "overlay",
              "size": 10,
              "solidity": 0.2
             }
            },
            "type": "histogram"
           }
          ],
          "histogram2d": [
           {
            "colorbar": {
             "outlinewidth": 0,
             "ticks": ""
            },
            "colorscale": [
             [
              0,
              "#0d0887"
             ],
             [
              0.1111111111111111,
              "#46039f"
             ],
             [
              0.2222222222222222,
              "#7201a8"
             ],
             [
              0.3333333333333333,
              "#9c179e"
             ],
             [
              0.4444444444444444,
              "#bd3786"
             ],
             [
              0.5555555555555556,
              "#d8576b"
             ],
             [
              0.6666666666666666,
              "#ed7953"
             ],
             [
              0.7777777777777778,
              "#fb9f3a"
             ],
             [
              0.8888888888888888,
              "#fdca26"
             ],
             [
              1,
              "#f0f921"
             ]
            ],
            "type": "histogram2d"
           }
          ],
          "histogram2dcontour": [
           {
            "colorbar": {
             "outlinewidth": 0,
             "ticks": ""
            },
            "colorscale": [
             [
              0,
              "#0d0887"
             ],
             [
              0.1111111111111111,
              "#46039f"
             ],
             [
              0.2222222222222222,
              "#7201a8"
             ],
             [
              0.3333333333333333,
              "#9c179e"
             ],
             [
              0.4444444444444444,
              "#bd3786"
             ],
             [
              0.5555555555555556,
              "#d8576b"
             ],
             [
              0.6666666666666666,
              "#ed7953"
             ],
             [
              0.7777777777777778,
              "#fb9f3a"
             ],
             [
              0.8888888888888888,
              "#fdca26"
             ],
             [
              1,
              "#f0f921"
             ]
            ],
            "type": "histogram2dcontour"
           }
          ],
          "mesh3d": [
           {
            "colorbar": {
             "outlinewidth": 0,
             "ticks": ""
            },
            "type": "mesh3d"
           }
          ],
          "parcoords": [
           {
            "line": {
             "colorbar": {
              "outlinewidth": 0,
              "ticks": ""
             }
            },
            "type": "parcoords"
           }
          ],
          "pie": [
           {
            "automargin": true,
            "type": "pie"
           }
          ],
          "scatter": [
           {
            "fillpattern": {
             "fillmode": "overlay",
             "size": 10,
             "solidity": 0.2
            },
            "type": "scatter"
           }
          ],
          "scatter3d": [
           {
            "line": {
             "colorbar": {
              "outlinewidth": 0,
              "ticks": ""
             }
            },
            "marker": {
             "colorbar": {
              "outlinewidth": 0,
              "ticks": ""
             }
            },
            "type": "scatter3d"
           }
          ],
          "scattercarpet": [
           {
            "marker": {
             "colorbar": {
              "outlinewidth": 0,
              "ticks": ""
             }
            },
            "type": "scattercarpet"
           }
          ],
          "scattergeo": [
           {
            "marker": {
             "colorbar": {
              "outlinewidth": 0,
              "ticks": ""
             }
            },
            "type": "scattergeo"
           }
          ],
          "scattergl": [
           {
            "marker": {
             "colorbar": {
              "outlinewidth": 0,
              "ticks": ""
             }
            },
            "type": "scattergl"
           }
          ],
          "scattermapbox": [
           {
            "marker": {
             "colorbar": {
              "outlinewidth": 0,
              "ticks": ""
             }
            },
            "type": "scattermapbox"
           }
          ],
          "scatterpolar": [
           {
            "marker": {
             "colorbar": {
              "outlinewidth": 0,
              "ticks": ""
             }
            },
            "type": "scatterpolar"
           }
          ],
          "scatterpolargl": [
           {
            "marker": {
             "colorbar": {
              "outlinewidth": 0,
              "ticks": ""
             }
            },
            "type": "scatterpolargl"
           }
          ],
          "scatterternary": [
           {
            "marker": {
             "colorbar": {
              "outlinewidth": 0,
              "ticks": ""
             }
            },
            "type": "scatterternary"
           }
          ],
          "surface": [
           {
            "colorbar": {
             "outlinewidth": 0,
             "ticks": ""
            },
            "colorscale": [
             [
              0,
              "#0d0887"
             ],
             [
              0.1111111111111111,
              "#46039f"
             ],
             [
              0.2222222222222222,
              "#7201a8"
             ],
             [
              0.3333333333333333,
              "#9c179e"
             ],
             [
              0.4444444444444444,
              "#bd3786"
             ],
             [
              0.5555555555555556,
              "#d8576b"
             ],
             [
              0.6666666666666666,
              "#ed7953"
             ],
             [
              0.7777777777777778,
              "#fb9f3a"
             ],
             [
              0.8888888888888888,
              "#fdca26"
             ],
             [
              1,
              "#f0f921"
             ]
            ],
            "type": "surface"
           }
          ],
          "table": [
           {
            "cells": {
             "fill": {
              "color": "#EBF0F8"
             },
             "line": {
              "color": "white"
             }
            },
            "header": {
             "fill": {
              "color": "#C8D4E3"
             },
             "line": {
              "color": "white"
             }
            },
            "type": "table"
           }
          ]
         },
         "layout": {
          "annotationdefaults": {
           "arrowcolor": "#2a3f5f",
           "arrowhead": 0,
           "arrowwidth": 1
          },
          "autotypenumbers": "strict",
          "coloraxis": {
           "colorbar": {
            "outlinewidth": 0,
            "ticks": ""
           }
          },
          "colorscale": {
           "diverging": [
            [
             0,
             "#8e0152"
            ],
            [
             0.1,
             "#c51b7d"
            ],
            [
             0.2,
             "#de77ae"
            ],
            [
             0.3,
             "#f1b6da"
            ],
            [
             0.4,
             "#fde0ef"
            ],
            [
             0.5,
             "#f7f7f7"
            ],
            [
             0.6,
             "#e6f5d0"
            ],
            [
             0.7,
             "#b8e186"
            ],
            [
             0.8,
             "#7fbc41"
            ],
            [
             0.9,
             "#4d9221"
            ],
            [
             1,
             "#276419"
            ]
           ],
           "sequential": [
            [
             0,
             "#0d0887"
            ],
            [
             0.1111111111111111,
             "#46039f"
            ],
            [
             0.2222222222222222,
             "#7201a8"
            ],
            [
             0.3333333333333333,
             "#9c179e"
            ],
            [
             0.4444444444444444,
             "#bd3786"
            ],
            [
             0.5555555555555556,
             "#d8576b"
            ],
            [
             0.6666666666666666,
             "#ed7953"
            ],
            [
             0.7777777777777778,
             "#fb9f3a"
            ],
            [
             0.8888888888888888,
             "#fdca26"
            ],
            [
             1,
             "#f0f921"
            ]
           ],
           "sequentialminus": [
            [
             0,
             "#0d0887"
            ],
            [
             0.1111111111111111,
             "#46039f"
            ],
            [
             0.2222222222222222,
             "#7201a8"
            ],
            [
             0.3333333333333333,
             "#9c179e"
            ],
            [
             0.4444444444444444,
             "#bd3786"
            ],
            [
             0.5555555555555556,
             "#d8576b"
            ],
            [
             0.6666666666666666,
             "#ed7953"
            ],
            [
             0.7777777777777778,
             "#fb9f3a"
            ],
            [
             0.8888888888888888,
             "#fdca26"
            ],
            [
             1,
             "#f0f921"
            ]
           ]
          },
          "colorway": [
           "#636efa",
           "#EF553B",
           "#00cc96",
           "#ab63fa",
           "#FFA15A",
           "#19d3f3",
           "#FF6692",
           "#B6E880",
           "#FF97FF",
           "#FECB52"
          ],
          "font": {
           "color": "#2a3f5f"
          },
          "geo": {
           "bgcolor": "white",
           "lakecolor": "white",
           "landcolor": "#E5ECF6",
           "showlakes": true,
           "showland": true,
           "subunitcolor": "white"
          },
          "hoverlabel": {
           "align": "left"
          },
          "hovermode": "closest",
          "mapbox": {
           "style": "light"
          },
          "paper_bgcolor": "white",
          "plot_bgcolor": "#E5ECF6",
          "polar": {
           "angularaxis": {
            "gridcolor": "white",
            "linecolor": "white",
            "ticks": ""
           },
           "bgcolor": "#E5ECF6",
           "radialaxis": {
            "gridcolor": "white",
            "linecolor": "white",
            "ticks": ""
           }
          },
          "scene": {
           "xaxis": {
            "backgroundcolor": "#E5ECF6",
            "gridcolor": "white",
            "gridwidth": 2,
            "linecolor": "white",
            "showbackground": true,
            "ticks": "",
            "zerolinecolor": "white"
           },
           "yaxis": {
            "backgroundcolor": "#E5ECF6",
            "gridcolor": "white",
            "gridwidth": 2,
            "linecolor": "white",
            "showbackground": true,
            "ticks": "",
            "zerolinecolor": "white"
           },
           "zaxis": {
            "backgroundcolor": "#E5ECF6",
            "gridcolor": "white",
            "gridwidth": 2,
            "linecolor": "white",
            "showbackground": true,
            "ticks": "",
            "zerolinecolor": "white"
           }
          },
          "shapedefaults": {
           "line": {
            "color": "#2a3f5f"
           }
          },
          "ternary": {
           "aaxis": {
            "gridcolor": "white",
            "linecolor": "white",
            "ticks": ""
           },
           "baxis": {
            "gridcolor": "white",
            "linecolor": "white",
            "ticks": ""
           },
           "bgcolor": "#E5ECF6",
           "caxis": {
            "gridcolor": "white",
            "linecolor": "white",
            "ticks": ""
           }
          },
          "title": {
           "x": 0.05
          },
          "xaxis": {
           "automargin": true,
           "gridcolor": "white",
           "linecolor": "white",
           "ticks": "",
           "title": {
            "standoff": 15
           },
           "zerolinecolor": "white",
           "zerolinewidth": 2
          },
          "yaxis": {
           "automargin": true,
           "gridcolor": "white",
           "linecolor": "white",
           "ticks": "",
           "title": {
            "standoff": 15
           },
           "zerolinecolor": "white",
           "zerolinewidth": 2
          }
         }
        },
        "title": {
         "text": "Average Percentages of ICT Goods Imports and High-Tech Exports Over the Years"
        },
        "xaxis": {
         "anchor": "y",
         "domain": [
          0,
          1
         ],
         "title": {
          "text": "Percentage"
         }
        },
        "yaxis": {
         "anchor": "x",
         "domain": [
          0,
          1
         ],
         "title": {
          "text": "Year"
         }
        }
       }
      }
     },
     "metadata": {},
     "output_type": "display_data"
    }
   ],
   "source": [
    "# Clean the data: Filter rows for the desired metrics\n",
    "selected_metrics = ['ICT goods imports (% total goods imports)', 'High-technology exports (% of manufactured exports)']\n",
    "filtered_data = data[data['Series Name'].isin(selected_metrics)]\n",
    "\n",
    "# Reshape the data using melt\n",
    "melted_data = pd.melt(filtered_data, id_vars=['Country Name', 'Country Code', 'Series Name', 'Series Code'], var_name='Year', value_name='Value')\n",
    "\n",
    "# Remove rows with missing values\n",
    "melted_data = melted_data.dropna()\n",
    "\n",
    "# Convert 'Value' column to numeric\n",
    "melted_data['Value'] = pd.to_numeric(melted_data['Value'], errors='coerce')\n",
    "\n",
    "# Group by year, calculate the average percentages, and pivot for plotting\n",
    "grouped_data = melted_data.groupby(['Year', 'Series Name'])['Value'].mean().reset_index()\n",
    "pivot_data = grouped_data.pivot(index='Year', columns='Series Name', values='Value').reset_index()\n",
    "\n",
    "# Create a grouped bar chart using Plotly\n",
    "fig = px.bar(pivot_data, y='Year', x=['ICT goods imports (% total goods imports)', 'High-technology exports (% of manufactured exports)'],\n",
    "             title='Average Percentages of ICT Goods Imports and High-Tech Exports Over the Years',\n",
    "             labels={'value': 'Percentage'},\n",
    "             height=500)\n",
    "fig.update_yaxes(title='Year')\n",
    "fig.update_xaxes(title='Percentage')\n",
    "fig.update_layout(barmode='group')\n",
    "fig.show()"
   ]
  }
 ],
 "metadata": {
  "kernelspec": {
   "display_name": "Python (learn-env)",
   "language": "python",
   "name": "learn-env"
  },
  "language_info": {
   "codemirror_mode": {
    "name": "ipython",
    "version": 3
   },
   "file_extension": ".py",
   "mimetype": "text/x-python",
   "name": "python",
   "nbconvert_exporter": "python",
   "pygments_lexer": "ipython3",
   "version": "3.10.9"
  },
  "orig_nbformat": 4
 },
 "nbformat": 4,
 "nbformat_minor": 2
}
